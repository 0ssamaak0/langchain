{
 "cells": [
  {
   "cell_type": "markdown",
   "id": "a91c50ff-bcb9-484b-a4bd-f56e75c182ba",
   "metadata": {},
   "source": [
    "# General Chat Agent w/ XML like encoding"
   ]
  },
  {
   "cell_type": "code",
   "execution_count": 25,
   "id": "80595f69-8b46-494e-bd2f-0c9538ed526a",
   "metadata": {},
   "outputs": [
    {
     "name": "stdout",
     "output_type": "stream",
     "text": [
      "The autoreload extension is already loaded. To reload it, use:\n",
      "  %reload_ext autoreload\n"
     ]
    }
   ],
   "source": [
    "%load_ext autoreload\n",
    "%autoreload 2\n",
    "\n",
    "import sys\n",
    "sys.path.insert(0, '../../../')"
   ]
  },
  {
   "cell_type": "code",
   "execution_count": 41,
   "id": "724c11c6-c98a-47ef-8697-87cd888df7a0",
   "metadata": {},
   "outputs": [],
   "source": [
    "from typing import List, Optional, Any\n",
    "from langchain.tools import tool, Tool\n",
    "from langchain.schema.messages import AIMessage, HumanMessage\n",
    "from langchain.chat_models.anthropic import ChatAnthropic\n",
    "from langchain.automaton.agent_implementations import xml_agent"
   ]
  },
  {
   "cell_type": "code",
   "execution_count": 27,
   "id": "ed3855cd-06b0-4a45-8b76-88926433fc60",
   "metadata": {},
   "outputs": [],
   "source": [
    "def get_tools() -> List[Tool]:\n",
    "    @tool\n",
    "    def name() -> str:\n",
    "        \"\"\"Use to look up the user's name\"\"\"\n",
    "        return \"Eugene\"\n",
    "\n",
    "    @tool\n",
    "    def get_weather(city: str) -> str:\n",
    "        \"\"\"Get weather in a specific city.\"\"\"\n",
    "        return \"42F and sunny\"\n",
    "\n",
    "    @tool\n",
    "    def add(x: int, y: int) -> int:\n",
    "        \"\"\"Use to add two numbers. For example; { \"x\": 2, \"y\": 10}\"\"\"\n",
    "        return x + y\n",
    "\n",
    "    @tool\n",
    "    def add_3(x: int, y: int, z: int) -> int:\n",
    "        \"\"\"Add 3 numbers together.\"\"\"\n",
    "        return x + y + z\n",
    "\n",
    "    @tool\n",
    "    def divide(x: float, y: float) -> float:\n",
    "        \"\"\"Divide x by y\"\"\"\n",
    "        return x / y\n",
    "\n",
    "    return list(locals().values())\n",
    "\n",
    "\n",
    "tools = get_tools()"
   ]
  },
  {
   "cell_type": "code",
   "execution_count": 30,
   "id": "97a59c88-2f0a-4982-81e3-4ffba4f222da",
   "metadata": {},
   "outputs": [],
   "source": [
    "llm = ChatAnthropic(temperature=0)"
   ]
  },
  {
   "cell_type": "code",
   "execution_count": 31,
   "id": "00177716-422e-436c-b07d-b70b2ccb5839",
   "metadata": {},
   "outputs": [],
   "source": [
    "start_messages = xml_agent.get_start_state(tools)"
   ]
  },
  {
   "cell_type": "code",
   "execution_count": 32,
   "id": "778b2eda-5128-40ea-949f-9727610cc194",
   "metadata": {},
   "outputs": [],
   "source": [
    "agent = xml_agent.create_xml_agent(llm, tools)"
   ]
  },
  {
   "cell_type": "code",
   "execution_count": 33,
   "id": "3bfcb9a7-af38-4b7a-87cc-84a842d6c072",
   "metadata": {},
   "outputs": [],
   "source": [
    "question = HumanMessage(\n",
    "    content=\"Sum of first 10 numbers starting from 1? use one tool at a time\"\n",
    ")\n",
    "messages = start_messages + [question]"
   ]
  },
  {
   "cell_type": "code",
   "execution_count": 39,
   "id": "29ec7747-5cf7-49e3-b39e-23cf0a0818f3",
   "metadata": {},
   "outputs": [
    {
     "name": "stdout",
     "output_type": "stream",
     "text": [
      "ai:  <action>\n",
      "{\n",
      "  \"action\": \"add\", \n",
      "  \"action_input\": {\n",
      "    \"x\": 1,\n",
      "    \"y\": 2\n",
      "  }  \n",
      "}\n",
      "</action>\n",
      "FunctionCall(name=add, named_arguments={'x': 1, 'y': 2})\n",
      "FunctionResult(name=add, result=3, error=None)\n",
      "ai:  <action>\n",
      "{\n",
      "  \"action\": \"add\",\n",
      "  \"action_input\": {\n",
      "    \"x\": 3, \n",
      "    \"y\": 3\n",
      "  }\n",
      "}  \n",
      "</action>\n",
      "FunctionCall(name=add, named_arguments={'x': 3, 'y': 3})\n",
      "FunctionResult(name=add, result=6, error=None)\n",
      "ai:  <action>\n",
      "{\n",
      "  \"action\": \"add\",\n",
      "  \"action_input\": {\n",
      "    \"x\": 6,\n",
      "    \"y\": 4 \n",
      "  }\n",
      "}\n",
      "</action>\n",
      "FunctionCall(name=add, named_arguments={'x': 6, 'y': 4})\n",
      "FunctionResult(name=add, result=10, error=None)\n",
      "ai:  <action>\n",
      "{\n",
      "  \"action\": \"add\",\n",
      "  \"action_input\": {\n",
      "    \"x\": 10, \n",
      "    \"y\": 5\n",
      "  }\n",
      "}\n",
      "</action>  \n",
      "FunctionCall(name=add, named_arguments={'x': 10, 'y': 5})\n",
      "FunctionResult(name=add, result=15, error=None)\n",
      "ai:  <action>\n",
      "{\n",
      "  \"action\": \"add\",\n",
      "  \"action_input\": {\n",
      "    \"x\": 15,\n",
      "    \"y\": 6\n",
      "  }\n",
      "}  \n",
      "</action>\n",
      "FunctionCall(name=add, named_arguments={'x': 15, 'y': 6})\n",
      "FunctionResult(name=add, result=21, error=None)\n",
      "ai:   <action>\n",
      "{\n",
      "  \"action\": \"add\",\n",
      "  \"action_input\": {\n",
      "    \"x\": 21,\n",
      "    \"y\": 7\n",
      "  }\n",
      "}\n",
      "</action>\n",
      "FunctionCall(name=add, named_arguments={'x': 21, 'y': 7})\n",
      "FunctionResult(name=add, result=28, error=None)\n",
      "ai:  <action>\n",
      "{\n",
      "  \"action\": \"add\",\n",
      "  \"action_input\": {\n",
      "    \"x\": 28, \n",
      "    \"y\": 8\n",
      "  }\n",
      "}\n",
      "</action>\n",
      "FunctionCall(name=add, named_arguments={'x': 28, 'y': 8})\n",
      "FunctionResult(name=add, result=36, error=None)\n",
      "ai:  <action>\n",
      "{\n",
      "  \"action\": \"add\",\n",
      "  \"action_input\": {\n",
      "    \"x\": 36,\n",
      "    \"y\": 9   \n",
      "  }\n",
      "}  \n",
      "</action>\n",
      "FunctionCall(name=add, named_arguments={'x': 36, 'y': 9})\n",
      "FunctionResult(name=add, result=45, error=None)\n",
      "ai:  <action>\n",
      "{\n",
      "  \"action\": \"add\",\n",
      "  \"action_input\": {\n",
      "    \"x\": 45,\n",
      "    \"y\": 10\n",
      "  }\n",
      "}\n",
      "</action>\n",
      "FunctionCall(name=add, named_arguments={'x': 45, 'y': 10})\n",
      "FunctionResult(name=add, result=55, error=None)\n",
      "ai:  <action>\n",
      "{\n",
      "  \"action\": \"Final Answer\",\n",
      "  \"action_input\": {\n",
      "    \"answer\": \"The sum of the first 10 numbers starting from 1 is 55.\"\n",
      "  }\n",
      "}  \n",
      "</action>\n",
      "AgentFinish(result={'answer': 'The sum of the first 10 numbers starting from 1 is 55.'})\n"
     ]
    }
   ],
   "source": [
    "for msg in agent.run(messages):\n",
    "    print(msg)"
   ]
  },
  {
   "cell_type": "code",
   "execution_count": 40,
   "id": "a3a4eeca-9126-4d97-902d-fa4564563130",
   "metadata": {},
   "outputs": [
    {
     "ename": "ImportError",
     "evalue": "cannot import name 'prompt_generator' from 'langchain.automaton.chat_agent' (/home/eugene/src/langchain/libs/langchain/langchain/automaton/notebooks/../../../langchain/automaton/chat_agent.py)",
     "output_type": "error",
     "traceback": [
      "\u001b[0;31m---------------------------------------------------------------------------\u001b[0m",
      "\u001b[0;31mImportError\u001b[0m                               Traceback (most recent call last)",
      "Cell \u001b[0;32mIn[40], line 4\u001b[0m\n\u001b[1;32m      1\u001b[0m \u001b[38;5;66;03m# Visualize\u001b[39;00m\n\u001b[1;32m      3\u001b[0m \u001b[38;5;28;01mimport\u001b[39;00m \u001b[38;5;21;01mhtml\u001b[39;00m\n\u001b[0;32m----> 4\u001b[0m \u001b[38;5;28;01mfrom\u001b[39;00m \u001b[38;5;21;01mlangchain\u001b[39;00m\u001b[38;5;21;01m.\u001b[39;00m\u001b[38;5;21;01mautomaton\u001b[39;00m\u001b[38;5;21;01m.\u001b[39;00m\u001b[38;5;21;01mchat_agent\u001b[39;00m \u001b[38;5;28;01mimport\u001b[39;00m prompt_generator\n\u001b[1;32m      6\u001b[0m messages \u001b[38;5;241m=\u001b[39m prompt_generator(message_log)\n\u001b[1;32m      8\u001b[0m \u001b[38;5;66;03m# Generate HTML divs\u001b[39;00m\n",
      "\u001b[0;31mImportError\u001b[0m: cannot import name 'prompt_generator' from 'langchain.automaton.chat_agent' (/home/eugene/src/langchain/libs/langchain/langchain/automaton/notebooks/../../../langchain/automaton/chat_agent.py)"
     ]
    }
   ],
   "source": [
    "# # Visualize\n",
    "\n",
    "# import html\n",
    "# from langchain.automaton.chat_agent import prompt_generator\n",
    "\n",
    "# messages = prompt_generator(message_log)\n",
    "\n",
    "# # Generate HTML divs\n",
    "# html_divs = []\n",
    "# for idx, msg in enumerate(messages):\n",
    "#     background_color = \"DodgerBlue\" if idx % 2 == 0 else \"Tomato\"\n",
    "#     div_content = f\"\"\"\n",
    "#     <div style=\"border: 1px solid black; padding: 10px; background-color:{background_color}\">\n",
    "#         <div style=\"display: flex;\">\n",
    "#             <div style=\"font-weight: bold; margin-right: 10px;\">{html.escape(msg.type)}</div>\n",
    "#             <div>{html.escape(msg.content)}</div>\n",
    "#         </div>\n",
    "#     </div>\n",
    "# \"\"\"\n",
    "#     html_divs.append(div_content)\n",
    "\n",
    "# # Display HTML divs in a Jupyter Notebook cell\n",
    "# from IPython.display import HTML, display\n",
    "\n",
    "# html_output = \"\\n\".join(html_divs)\n",
    "# display(HTML(html_output))"
   ]
  }
 ],
 "metadata": {
  "kernelspec": {
   "display_name": "Python 3 (ipykernel)",
   "language": "python",
   "name": "python3"
  },
  "language_info": {
   "codemirror_mode": {
    "name": "ipython",
    "version": 3
   },
   "file_extension": ".py",
   "mimetype": "text/x-python",
   "name": "python",
   "nbconvert_exporter": "python",
   "pygments_lexer": "ipython3",
   "version": "3.10.12"
  }
 },
 "nbformat": 4,
 "nbformat_minor": 5
}
