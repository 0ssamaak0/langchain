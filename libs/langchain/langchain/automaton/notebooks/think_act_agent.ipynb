{
 "cells": [
  {
   "cell_type": "markdown",
   "id": "9875f554-8f4d-409b-929f-00e8bc70185d",
   "metadata": {},
   "source": [
    "# Think Act Agent"
   ]
  },
  {
   "cell_type": "code",
   "execution_count": 1,
   "id": "80595f69-8b46-494e-bd2f-0c9538ed526a",
   "metadata": {},
   "outputs": [],
   "source": [
    "%load_ext autoreload\n",
    "%autoreload 2"
   ]
  },
  {
   "cell_type": "code",
   "execution_count": 2,
   "id": "724c11c6-c98a-47ef-8697-87cd888df7a0",
   "metadata": {},
   "outputs": [],
   "source": [
    "from typing import List, Optional, Any\n",
    "from langchain.automaton.think_act_agent import ThinkActAgent, generate_memory, ThinkActPromptGenerator\n",
    "from langchain.schema.messages import HumanMessage\n",
    "from langchain.llms import OpenAI\n",
    "from langchain.tools import tool, Tool"
   ]
  },
  {
   "cell_type": "code",
   "execution_count": 3,
   "id": "ed3855cd-06b0-4a45-8b76-88926433fc60",
   "metadata": {},
   "outputs": [],
   "source": [
    "def get_tools() -> List[Tool]:\n",
    "    @tool\n",
    "    def name() -> str:\n",
    "        \"\"\"Use to look up the user's name\"\"\"\n",
    "        return \"Eugene\"\n",
    "\n",
    "    @tool\n",
    "    def get_weather(city: str) -> str:\n",
    "        \"\"\"Get weather in a specific city.\"\"\"\n",
    "        return \"42F and sunny\"\n",
    "\n",
    "    @tool\n",
    "    def add(x: int, y: int) -> int:\n",
    "        \"\"\"Use to add two numbers. For example; { \"x\": 2, \"y\": 10} \"\"\"\n",
    "        return x + y\n",
    "\n",
    "    @tool\n",
    "    def divide(x: float, y: float) -> float:\n",
    "        \"\"\"Divide x by y\"\"\"\n",
    "        return x / y\n",
    "\n",
    "    return list(locals().values())\n",
    "\n",
    "tools = get_tools()"
   ]
  },
  {
   "cell_type": "code",
   "execution_count": 4,
   "id": "d416bb0e-28e4-4da3-8b10-aa563f87a48e",
   "metadata": {},
   "outputs": [],
   "source": [
    "llm = OpenAI(temperature=0)\n",
    "agent = ThinkActAgent(llm, tools)"
   ]
  },
  {
   "cell_type": "code",
   "execution_count": 5,
   "id": "94535cb6-8f0d-43c8-9e23-46e4834cc72d",
   "metadata": {},
   "outputs": [],
   "source": [
    "message_log = generate_memory(tools)\n",
    "question = HumanMessage(content='what is the 2 + 5?')\n",
    "message_log.add_messages([question])\n",
    "agent.run(message_log)"
   ]
  },
  {
   "cell_type": "code",
   "execution_count": 7,
   "id": "a3e99642-ac4c-4795-8aa0-a35037d699dd",
   "metadata": {},
   "outputs": [
    {
     "name": "stdout",
     "output_type": "stream",
     "text": [
      "Respond to the human as helpfully and accurately as \n",
      "possible. You have access to the following tools:\n",
      "name: name() -> str - Use to look up the user's name\n",
      "get_weather: get_weather(city: str) -> str - Get weather in a specific city.\n",
      "add: add(x: int, y: int) -> int - Use to add two numbers. For example; { \"x\": 2, \"y\": 10}\n",
      "divide: divide(x: float, y: float) -> float - Divide x by y\n",
      "\n",
      "Use a blob to specify a tool by providing an action key (tool name) and an action_input key (tool input).\n",
      "\n",
      "Valid \"action\" values: \"Final Answer\" or name, get_weather, add, divide\n",
      "\n",
      "You can only use a single tool at a time.\n",
      "\n",
      "<action>\n",
      "{\n",
      "  \"action\": $TOOL_NAME,\n",
      "  \"action_input\": $INPUT\n",
      "}\n",
      "</action>\n",
      "\n",
      "Follow this format:\n",
      "\n",
      "Question: input question to answer\n",
      "Thought: consider previous and subsequent steps\n",
      "<action>\n",
      "$BLOB\n",
      "</action>\n",
      "\n",
      "Observation: action result\n",
      "... (repeat Thought/Action/Observation N times)\n",
      "Thought: I know what to respond\n",
      "<action>\n",
      "{\n",
      "  \"action\": \"Final Answer\",\n",
      "  \"action_input\": \"Final response to human\"\n",
      "}\n",
      "</action>\n",
      "\n",
      "Begin:\n",
      "\n",
      "Reminder to ALWAYS respond with a valid blob of a single action. Use tools if necessary. Respond directly if appropriate. Format is <action>$BLOB</action> then Observation.\n",
      "Question: what is the 2 + 5?\n",
      "Thought:I need to use the add tool\n",
      "<action>\n",
      "{\n",
      "  \"action\": \"add\",\n",
      "  \"action_input\": { \"x\": 2, \"y\": 5 }\n",
      "}\n",
      "</action>\n",
      "Observation: 7\n",
      "Thought:I know what to respond\n",
      "<action>\n",
      "{\n",
      "  \"action\": \"Final Answer\",\n",
      "  \"action_input\": \"The answer is 7\"\n",
      "}\n",
      "</action>\n",
      "Answer: The answer is 7\n"
     ]
    }
   ],
   "source": [
    "print(ThinkActPromptGenerator.from_message_log(message_log).to_string())"
   ]
  },
  {
   "cell_type": "code",
   "execution_count": null,
   "id": "aa0b8911-9117-42db-8f0d-bdfeb3472f65",
   "metadata": {},
   "outputs": [],
   "source": []
  }
 ],
 "metadata": {
  "kernelspec": {
   "display_name": "Python 3 (ipykernel)",
   "language": "python",
   "name": "python3"
  },
  "language_info": {
   "codemirror_mode": {
    "name": "ipython",
    "version": 3
   },
   "file_extension": ".py",
   "mimetype": "text/x-python",
   "name": "python",
   "nbconvert_exporter": "python",
   "pygments_lexer": "ipython3",
   "version": "3.11.2"
  }
 },
 "nbformat": 4,
 "nbformat_minor": 5
}
