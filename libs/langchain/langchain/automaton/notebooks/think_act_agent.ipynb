{
 "cells": [
  {
   "cell_type": "markdown",
   "id": "9875f554-8f4d-409b-929f-00e8bc70185d",
   "metadata": {},
   "source": [
    "# Think Act Agent"
   ]
  },
  {
   "cell_type": "code",
   "execution_count": 1,
   "id": "80595f69-8b46-494e-bd2f-0c9538ed526a",
   "metadata": {},
   "outputs": [],
   "source": [
    "%load_ext autoreload\n",
    "%autoreload 2\n",
    "\n",
    "import sys\n",
    "sys.path.insert(0, '../../../')"
   ]
  },
  {
   "cell_type": "code",
   "execution_count": 2,
   "id": "724c11c6-c98a-47ef-8697-87cd888df7a0",
   "metadata": {},
   "outputs": [],
   "source": [
    "from typing import List, Optional, Any\n",
    "from langchain.tools import tool, Tool\n",
    "from langchain.schema.messages import AIMessage, HumanMessage\n",
    "from langchain.chat_models.anthropic import ChatAnthropic\n",
    "from langchain.llms import OpenAI\n",
    "from langchain.automaton.agent_implementations import think_act_agent"
   ]
  },
  {
   "cell_type": "code",
   "execution_count": 3,
   "id": "ed3855cd-06b0-4a45-8b76-88926433fc60",
   "metadata": {},
   "outputs": [],
   "source": [
    "def get_tools() -> List[Tool]:\n",
    "    @tool\n",
    "    def name() -> str:\n",
    "        \"\"\"Use to look up the user's name\"\"\"\n",
    "        return \"Eugene\"\n",
    "\n",
    "    @tool\n",
    "    def get_weather(city: str) -> str:\n",
    "        \"\"\"Get weather in a specific city.\"\"\"\n",
    "        return \"42F and sunny\"\n",
    "\n",
    "    @tool\n",
    "    def add(x: int, y: int) -> int:\n",
    "        \"\"\"Use to add two numbers. For example; { \"x\": 2, \"y\": 10}\"\"\"\n",
    "        return x + y\n",
    "\n",
    "    @tool\n",
    "    def divide(x: float, y: float) -> float:\n",
    "        \"\"\"Divide x by y\"\"\"\n",
    "        return x / y\n",
    "\n",
    "    return list(locals().values())\n",
    "\n",
    "\n",
    "tools = get_tools()"
   ]
  },
  {
   "cell_type": "code",
   "execution_count": 4,
   "id": "f6abff39-5243-45d1-a250-a862bbd665ff",
   "metadata": {},
   "outputs": [],
   "source": [
    "llm = OpenAI(temperature=0)"
   ]
  },
  {
   "cell_type": "code",
   "execution_count": 5,
   "id": "d416bb0e-28e4-4da3-8b10-aa563f87a48e",
   "metadata": {},
   "outputs": [],
   "source": [
    "agent = think_act_agent.ThinkActAgent(llm, tools)"
   ]
  },
  {
   "cell_type": "code",
   "execution_count": 6,
   "id": "f9c1ed10-309b-47a1-b22e-153e53c3a86e",
   "metadata": {},
   "outputs": [],
   "source": [
    "start_messages = think_act_agent.generate_memory(tools)"
   ]
  },
  {
   "cell_type": "code",
   "execution_count": 9,
   "id": "04488a11-6ef2-428b-b1ae-7800b424480a",
   "metadata": {},
   "outputs": [],
   "source": [
    "from langchain.callbacks.manager import (\n",
    "    trace_as_chain_group,\n",
    "    atrace_as_chain_group,\n",
    ")\n"
   ]
  },
  {
   "cell_type": "code",
   "execution_count": 12,
   "id": "32a3ce50-e993-4f29-b2f8-02261d417e24",
   "metadata": {},
   "outputs": [
    {
     "name": "stdout",
     "output_type": "stream",
     "text": [
      "ai:  I need to use the divide tool and the get_weather tool\n",
      "<action>\n",
      "{\n",
      "  \"action\": \"divide\",\n",
      "  \"action_input\": { \"x\": 12381237, \"y\": 23 }\n",
      "}\n",
      "</action>\n",
      "\n",
      "FunctionCall(name=divide, named_arguments={'x': 12381237, 'y': 23})\n",
      "FunctionResult(name=divide, result=538314.6521739131, error=None)\n",
      "ai:  I need to use the name tool and the get_weather tool\n",
      "<action>\n",
      "{\n",
      "  \"action\": \"name\",\n",
      "  \"action_input\": \"\"\n",
      "}\n",
      "</action>\n",
      "\n",
      "FunctionCall(name=name, named_arguments={})\n",
      "FunctionResult(name=name, result=Eugene, error=None)\n",
      "ai: I need to use the get_weather tool\n",
      "<action>\n",
      "{\n",
      "  \"action\": \"get_weather\",\n",
      "  \"action_input\": \"New York\"\n",
      "}\n",
      "</action>\n",
      "\n",
      "AdHocMessage(type=error, data=Invalid action blob \n",
      "{\n",
      "  \"action\": \"get_weather\",\n",
      "  \"action_input\": \"New York\"\n",
      "}\n",
      ", action_input must be a dict)\n",
      "ai: \n",
      "Thought:I need to use the get_weather tool\n",
      "<action>\n",
      "{\n",
      "  \"action\": \"get_weather\",\n",
      "  \"action_input\": {\"city\": \"New York\"}\n",
      "}\n",
      "</action>\n",
      "\n",
      "FunctionCall(name=get_weather, named_arguments={'city': 'New York'})\n",
      "FunctionResult(name=get_weather, result=42F and sunny, error=None)\n",
      "ai:  I know what to respond\n",
      "<action>\n",
      "{\n",
      "  \"action\": \"Final Answer\",\n",
      "  \"action_input\": \"Hi Eugene, the answer to 12381237/23 is 538314.6521739131. The weather in New York is 42F and sunny.\"\n",
      "}\n",
      "</action>\n",
      "AgentFinish(result=Hi Eugene, the answer to 12381237/23 is 538314.6521739131. The weather in New York is 42F and sunny.)\n"
     ]
    }
   ],
   "source": [
    "question = HumanMessage(content=\"what is 12381237/23? What is my name? And what is the weather in new york?\")\n",
    "messages = start_messages + [question]\n",
    "\n",
    "with trace_as_chain_group(\"think_act_agent\") as group_manager:\n",
    "    for msg in agent.run(messages, config={\"callbacks\": group_manager}):\n",
    "        print(msg)"
   ]
  },
  {
   "cell_type": "code",
   "execution_count": null,
   "id": "248d63ee-1ec4-49cb-9e6b-84e75a7644ca",
   "metadata": {},
   "outputs": [],
   "source": []
  }
 ],
 "metadata": {
  "kernelspec": {
   "display_name": "Python 3 (ipykernel)",
   "language": "python",
   "name": "python3"
  },
  "language_info": {
   "codemirror_mode": {
    "name": "ipython",
    "version": 3
   },
   "file_extension": ".py",
   "mimetype": "text/x-python",
   "name": "python",
   "nbconvert_exporter": "python",
   "pygments_lexer": "ipython3",
   "version": "3.10.12"
  }
 },
 "nbformat": 4,
 "nbformat_minor": 5
}
