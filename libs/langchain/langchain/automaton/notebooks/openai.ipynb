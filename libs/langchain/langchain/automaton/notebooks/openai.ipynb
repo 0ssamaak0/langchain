{
 "cells": [
  {
   "cell_type": "markdown",
   "id": "a91c50ff-bcb9-484b-a4bd-f56e75c182ba",
   "metadata": {},
   "source": [
    "# Open AI Chat"
   ]
  },
  {
   "cell_type": "code",
   "execution_count": null,
   "id": "5d77b586-fced-4a34-b778-b05141ab32bc",
   "metadata": {},
   "outputs": [],
   "source": [
    "%load_ext autoreload\n",
    "%autoreload 2\n",
    "\n",
    "import sys\n",
    "sys.path.insert(0, '../../../')"
   ]
  },
  {
   "cell_type": "code",
   "execution_count": 6,
   "id": "f73ed8ca-7384-4afc-af8c-bfd5b794df01",
   "metadata": {},
   "outputs": [],
   "source": [
    "from typing import List, Optional, Any\n",
    "from langchain.tools import tool, Tool\n",
    "from langchain.automaton.agent_implementations.openai_agent import create_openai_agent\n",
    "from langchain.schema.messages import HumanMessage\n",
    "from langchain.chat_models.openai import ChatOpenAI"
   ]
  },
  {
   "cell_type": "code",
   "execution_count": 7,
   "id": "ed3855cd-06b0-4a45-8b76-88926433fc60",
   "metadata": {},
   "outputs": [],
   "source": [
    "def get_tools() -> List[Tool]:\n",
    "    @tool\n",
    "    def name() -> str:\n",
    "        \"\"\"Use to look up the user's name\"\"\"\n",
    "        return \"Eugene\"\n",
    "\n",
    "    @tool\n",
    "    def get_weather(city: str) -> str:\n",
    "        \"\"\"Get weather in a specific city.\"\"\"\n",
    "        return \"42F and sunny\"\n",
    "\n",
    "    @tool\n",
    "    def add(x: int, y: int) -> int:\n",
    "        \"\"\"Use to add two numbers. For example; { \"x\": 2, \"y\": 10} \"\"\"\n",
    "        return x + y\n",
    "\n",
    "    @tool\n",
    "    def add_3(x: int, y: int, z: int) -> int:\n",
    "        \"\"\"Add 3 numbers together.\"\"\"\n",
    "        return x + y + z\n",
    "\n",
    "    @tool\n",
    "    def divide(x: float, y: float) -> float:\n",
    "        \"\"\"Divide x by y\"\"\"\n",
    "        return x / y\n",
    "\n",
    "    return list(locals().values())\n",
    "\n",
    "tools = get_tools()"
   ]
  },
  {
   "cell_type": "code",
   "execution_count": 14,
   "id": "a0790c55-eacb-4e0c-970b-5784d62ef5c2",
   "metadata": {},
   "outputs": [],
   "source": [
    "llm = ChatOpenAI(temperature=0)\n",
    "agent = create_openai_agent(llm, tools)"
   ]
  },
  {
   "cell_type": "code",
   "execution_count": 15,
   "id": "e7d1ec69-de12-4c66-abee-3b2bbabeec13",
   "metadata": {},
   "outputs": [],
   "source": [
    "a = agent.run([HumanMessage(content=\"Sum of first 10 numbers starting from 1? use one tool at a time\")])"
   ]
  },
  {
   "cell_type": "code",
   "execution_count": 16,
   "id": "75c6cc2c-7604-44c0-b8cf-4513620782f9",
   "metadata": {},
   "outputs": [
    {
     "name": "stdout",
     "output_type": "stream",
     "text": [
      "ai: {'function_call': {'name': 'add', 'arguments': '{\\n  \"x\": 1,\\n  \"y\": 2\\n}'}}\n",
      "FunctionCall(name=add, named_arguments={'x': 1, 'y': 2})\n",
      "FunctionResult(name=add, result=3, error=None)\n",
      "ai: {'function_call': {'name': 'add', 'arguments': '{\\n  \"x\": 3,\\n  \"y\": 3\\n}'}}\n",
      "FunctionCall(name=add, named_arguments={'x': 3, 'y': 3})\n",
      "FunctionResult(name=add, result=6, error=None)\n",
      "ai: {'function_call': {'name': 'add', 'arguments': '{\\n  \"x\": 6,\\n  \"y\": 4\\n}'}}\n",
      "FunctionCall(name=add, named_arguments={'x': 6, 'y': 4})\n",
      "FunctionResult(name=add, result=10, error=None)\n",
      "ai: {'function_call': {'name': 'add', 'arguments': '{\\n  \"x\": 10,\\n  \"y\": 5\\n}'}}\n",
      "FunctionCall(name=add, named_arguments={'x': 10, 'y': 5})\n",
      "FunctionResult(name=add, result=15, error=None)\n",
      "ai: {'function_call': {'name': 'add', 'arguments': '{\\n  \"x\": 15,\\n  \"y\": 6\\n}'}}\n",
      "FunctionCall(name=add, named_arguments={'x': 15, 'y': 6})\n",
      "FunctionResult(name=add, result=21, error=None)\n",
      "ai: {'function_call': {'name': 'add', 'arguments': '{\\n  \"x\": 21,\\n  \"y\": 7\\n}'}}\n",
      "FunctionCall(name=add, named_arguments={'x': 21, 'y': 7})\n",
      "FunctionResult(name=add, result=28, error=None)\n",
      "ai: {'function_call': {'name': 'add', 'arguments': '{\\n  \"x\": 28,\\n  \"y\": 8\\n}'}}\n",
      "FunctionCall(name=add, named_arguments={'x': 28, 'y': 8})\n",
      "FunctionResult(name=add, result=36, error=None)\n",
      "ai: {'function_call': {'name': 'add', 'arguments': '{\\n  \"x\": 36,\\n  \"y\": 9\\n}'}}\n",
      "FunctionCall(name=add, named_arguments={'x': 36, 'y': 9})\n",
      "FunctionResult(name=add, result=45, error=None)\n",
      "ai: {'function_call': {'name': 'add', 'arguments': '{\\n  \"x\": 45,\\n  \"y\": 10\\n}'}}\n",
      "FunctionCall(name=add, named_arguments={'x': 45, 'y': 10})\n",
      "FunctionResult(name=add, result=55, error=None)\n",
      "ai: The sum of the first 10 numbers starting from 1 is 55.\n",
      "AgentFinish(result=ai: The sum of the first 10 numbers starting from 1 is 55.)\n"
     ]
    }
   ],
   "source": [
    "for msg in a:\n",
    "    print(msg)"
   ]
  }
 ],
 "metadata": {
  "kernelspec": {
   "display_name": "Python 3 (ipykernel)",
   "language": "python",
   "name": "python3"
  },
  "language_info": {
   "codemirror_mode": {
    "name": "ipython",
    "version": 3
   },
   "file_extension": ".py",
   "mimetype": "text/x-python",
   "name": "python",
   "nbconvert_exporter": "python",
   "pygments_lexer": "ipython3",
   "version": "3.10.12"
  }
 },
 "nbformat": 4,
 "nbformat_minor": 5
}
