{
 "cells": [
  {
   "cell_type": "markdown",
   "id": "a91c50ff-bcb9-484b-a4bd-f56e75c182ba",
   "metadata": {},
   "source": [
    "# Open AI Chat"
   ]
  },
  {
   "cell_type": "code",
   "execution_count": 5,
   "id": "80595f69-8b46-494e-bd2f-0c9538ed526a",
   "metadata": {},
   "outputs": [
    {
     "name": "stdout",
     "output_type": "stream",
     "text": [
      "The autoreload extension is already loaded. To reload it, use:\n",
      "  %reload_ext autoreload\n"
     ]
    }
   ],
   "source": [
    "%load_ext autoreload\n",
    "%autoreload 2"
   ]
  },
  {
   "cell_type": "code",
   "execution_count": 32,
   "id": "f73ed8ca-7384-4afc-af8c-bfd5b794df01",
   "metadata": {},
   "outputs": [],
   "source": [
    "from typing import List, Optional, Any\n",
    "from langchain.tools import tool, Tool, format_tool_to_openai_function\n",
    "from langchain.schema.messages import AIMessage, HumanMessage\n",
    "from langchain.chat_models.openai import ChatOpenAI\n",
    "from langchain.prompts import ChatPromptTemplate\n",
    "\n",
    "from langchain.automaton.typedefs import MessageLog\n",
    "from langchain.automaton.tool_utils import generate_tool_info\n",
    "from langchain.automaton.openai_agent import OpenAIAgent\n",
    "from langchain.chat_models.openai import ChatOpenAI"
   ]
  },
  {
   "cell_type": "code",
   "execution_count": 34,
   "id": "ed3855cd-06b0-4a45-8b76-88926433fc60",
   "metadata": {},
   "outputs": [],
   "source": [
    "def get_tools() -> List[Tool]:\n",
    "    @tool\n",
    "    def name() -> str:\n",
    "        \"\"\"Use to look up the user's name\"\"\"\n",
    "        return \"Eugene\"\n",
    "\n",
    "    @tool\n",
    "    def get_weather(city: str) -> str:\n",
    "        \"\"\"Get weather in a specific city.\"\"\"\n",
    "        return \"42F and sunny\"\n",
    "\n",
    "    @tool\n",
    "    def add(x: int, y: int) -> int:\n",
    "        \"\"\"Use to add two numbers. For example; { \"x\": 2, \"y\": 10} \"\"\"\n",
    "        return x + y\n",
    "\n",
    "    @tool\n",
    "    def add_3(x: int, y: int, z: int) -> int:\n",
    "        \"\"\"Add 3 numbers together.\"\"\"\n",
    "        return x + y + z\n",
    "\n",
    "    @tool\n",
    "    def divide(x: float, y: float) -> float:\n",
    "        \"\"\"Divide x by y\"\"\"\n",
    "        return x / y\n",
    "\n",
    "    return list(locals().values())\n",
    "\n",
    "tools = get_tools()"
   ]
  },
  {
   "cell_type": "code",
   "execution_count": 35,
   "id": "9015d76d-414f-449b-9647-310917d43cb8",
   "metadata": {},
   "outputs": [],
   "source": [
    "openai_funcs = [format_tool_to_openai_function(tool_) for tool_ in tools]"
   ]
  },
  {
   "cell_type": "code",
   "execution_count": 36,
   "id": "97a59c88-2f0a-4982-81e3-4ffba4f222da",
   "metadata": {},
   "outputs": [],
   "source": [
    "llm = ChatOpenAI(temperature=0).bind(functions=openai_funcs)"
   ]
  },
  {
   "cell_type": "code",
   "execution_count": 37,
   "id": "778b2eda-5128-40ea-949f-9727610cc194",
   "metadata": {},
   "outputs": [],
   "source": [
    "agent = OpenAIAgent(llm, tools)"
   ]
  },
  {
   "cell_type": "code",
   "execution_count": 42,
   "id": "7bec72cc-c882-415a-964e-9d53951630f3",
   "metadata": {},
   "outputs": [],
   "source": [
    "class VerboseMessageLog(MessageLog):\n",
    "    def add_messages(self, *args, **kwargs):\n",
    "        for arg in args:\n",
    "            print(arg)\n",
    "        return super().add_messages(*args, **kwargs)"
   ]
  },
  {
   "cell_type": "code",
   "execution_count": 45,
   "id": "e7d1ec69-de12-4c66-abee-3b2bbabeec13",
   "metadata": {},
   "outputs": [
    {
     "name": "stdout",
     "output_type": "stream",
     "text": [
      "[human: Sum of first 10 numbers starting from 1? use one tool at a time]\n",
      "[ai: {'function_call': {'name': 'add', 'arguments': '{\\n  \"x\": 1,\\n  \"y\": 2\\n}'}}, FunctionCall(name='add', arguments={'x': 1, 'y': 2}), FunctionResult(name='add', result=3, error=None)]\n",
      "[ai: {'function_call': {'name': 'add', 'arguments': '{\\n  \"x\": 3,\\n  \"y\": 3\\n}'}}, FunctionCall(name='add', arguments={'x': 3, 'y': 3}), FunctionResult(name='add', result=6, error=None)]\n",
      "[ai: {'function_call': {'name': 'add', 'arguments': '{\\n  \"x\": 6,\\n  \"y\": 4\\n}'}}, FunctionCall(name='add', arguments={'x': 6, 'y': 4}), FunctionResult(name='add', result=10, error=None)]\n",
      "[ai: {'function_call': {'name': 'add', 'arguments': '{\\n  \"x\": 10,\\n  \"y\": 5\\n}'}}, FunctionCall(name='add', arguments={'x': 10, 'y': 5}), FunctionResult(name='add', result=15, error=None)]\n",
      "[ai: {'function_call': {'name': 'add', 'arguments': '{\\n  \"x\": 15,\\n  \"y\": 6\\n}'}}, FunctionCall(name='add', arguments={'x': 15, 'y': 6}), FunctionResult(name='add', result=21, error=None)]\n",
      "[ai: {'function_call': {'name': 'add', 'arguments': '{\\n  \"x\": 21,\\n  \"y\": 7\\n}'}}, FunctionCall(name='add', arguments={'x': 21, 'y': 7}), FunctionResult(name='add', result=28, error=None)]\n",
      "[ai: {'function_call': {'name': 'add', 'arguments': '{\\n  \"x\": 28,\\n  \"y\": 8\\n}'}}, FunctionCall(name='add', arguments={'x': 28, 'y': 8}), FunctionResult(name='add', result=36, error=None)]\n",
      "[ai: {'function_call': {'name': 'add', 'arguments': '{\\n  \"x\": 36,\\n  \"y\": 9\\n}'}}, FunctionCall(name='add', arguments={'x': 36, 'y': 9}), FunctionResult(name='add', result=45, error=None)]\n",
      "[ai: {'function_call': {'name': 'add', 'arguments': '{\\n  \"x\": 45,\\n  \"y\": 10\\n}'}}, FunctionCall(name='add', arguments={'x': 45, 'y': 10}), FunctionResult(name='add', result=55, error=None)]\n",
      "[ai: The sum of the first 10 numbers starting from 1 is 55., AgentFinish(result=ai: The sum of the first 10 numbers starting from 1 is 55.)]\n"
     ]
    }
   ],
   "source": [
    "message_log = VerboseMessageLog(messages=[])\n",
    "question = HumanMessage(content=\"Sum of first 10 numbers starting from 1? use one tool at a time\")\n",
    "message_log.add_messages([question])\n",
    "agent.run(message_log)"
   ]
  }
 ],
 "metadata": {
  "kernelspec": {
   "display_name": "Python 3 (ipykernel)",
   "language": "python",
   "name": "python3"
  },
  "language_info": {
   "codemirror_mode": {
    "name": "ipython",
    "version": 3
   },
   "file_extension": ".py",
   "mimetype": "text/x-python",
   "name": "python",
   "nbconvert_exporter": "python",
   "pygments_lexer": "ipython3",
   "version": "3.11.2"
  }
 },
 "nbformat": 4,
 "nbformat_minor": 5
}
