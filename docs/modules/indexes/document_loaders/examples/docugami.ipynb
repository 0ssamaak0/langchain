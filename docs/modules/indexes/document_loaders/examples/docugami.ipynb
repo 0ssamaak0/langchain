{
 "cells": [
  {
   "cell_type": "code",
   "execution_count": 1,
   "metadata": {},
   "outputs": [],
   "source": [
    "%load_ext autoreload\n",
    "%autoreload 2"
   ]
  },
  {
   "attachments": {},
   "cell_type": "markdown",
   "metadata": {},
   "source": [
    "# Docugami\n",
    "This notebook covers how to load documents from `Docugami`. See [here](../../../../ecosystem/docugami.md) for more details, and the advantages of using this system over alternative data loaders.\n",
    "\n",
    "## Prerequisites\n",
    "1. Follow the Quick Start section in [this document](../../../../ecosystem/docugami.md)\n",
    "2. Grab an access token for your workspace, and make sure it is set as the DOCUGAMI_API_KEY environment variable\n",
    "3. Grab some docset and document IDs for your processed documents, as described here: https://help.docugami.com/home/docugami-api"
   ]
  },
  {
   "cell_type": "code",
   "execution_count": null,
   "metadata": {},
   "outputs": [],
   "source": [
    "# You need the lxml package to use the DocugamiLoader\n",
    "!poetry run pip -q install lxml"
   ]
  },
  {
   "cell_type": "code",
   "execution_count": 3,
   "metadata": {},
   "outputs": [],
   "source": [
    "import os\n",
    "from langchain.document_loaders import DocugamiLoader"
   ]
  },
  {
   "attachments": {},
   "cell_type": "markdown",
   "metadata": {},
   "source": [
    "## Load Documents\n",
    "\n",
    "If the DOCUGAMI_API_KEY environment variable is set, there is no need to pass it in to the loader explicitly otherwise you can pass it in as the `access_token` parameter."
   ]
  },
  {
   "cell_type": "code",
   "execution_count": null,
   "metadata": {},
   "outputs": [],
   "source": [
    "DOCUGAMI_API_KEY=os.environ.get('DOCUGAMI_API_KEY')\n",
    "\n",
    "# To load all docs in the given docset ID, just don't provide document_ids\n",
    "loader = DocugamiLoader(docset_id=\"ecxqpipcoe2p\", document_ids=[\"p83ua3xhxkmk\"])\n",
    "docs = loader.load()\n",
    "docs"
   ]
  },
  {
   "attachments": {},
   "cell_type": "markdown",
   "metadata": {},
   "source": [
    "The `metadata` for each `Document` (really, a chunk of an actual PDF, DOC or DOCX) contains some useful additional information:\n",
    "\n",
    "1. documentId: ID of the actual PDF, DOC or DOCX the chunk is sourced from within Docugami.\n",
    "2. xpath: XPath inside the XML representation of the document, for the chunk. Useful for source citations directly to the actual chunk inside the document XML.\n",
    "3. structure: Structural attributes of the chunk, e.g. h1, h2, div, table, td, etc. Useful to filter out certain kinds of chunks if needed by the caller.\n",
    "4. tag: Semantic tag for the chunk, using various generative and extractive techniques. More details here: https://github.com/docugami/DFM-benchmarks"
   ]
  },
  {
   "attachments": {},
   "cell_type": "markdown",
   "metadata": {},
   "source": [
    "## Basic Use: Docugami Loader for Document QA\n",
    "\n",
    "You can use the Docugami Loader like a standard loader for Document QA over multiple docs, albeit with much better chunks that follow the natural contours of the document. There are many great tutorials on how to do this, e.g. [this one](https://www.youtube.com/watch?v=3yPBVii7Ct0). We can just use the same code, but use the `DocugamiLoader` for better chunking, instead of loading text or PDF files directly with basic splitting techniques."
   ]
  },
  {
   "cell_type": "code",
   "execution_count": null,
   "metadata": {},
   "outputs": [],
   "source": [
    "!poetry run pip -q install openai tiktoken chromadb "
   ]
  },
  {
   "cell_type": "code",
   "execution_count": 4,
   "metadata": {},
   "outputs": [],
   "source": [
    "from langchain.schema import Document\n",
    "from langchain.vectorstores import Chroma\n",
    "from langchain.embeddings import OpenAIEmbeddings\n",
    "from langchain.llms import OpenAI\n",
    "from langchain.chains import RetrievalQA\n",
    "\n",
    "# In this example, we already have a docset with a set of lease documents\n",
    "loader = DocugamiLoader(docset_id=\"wh2kned25uqm\")\n",
    "documents = loader.load()"
   ]
  },
  {
   "cell_type": "code",
   "execution_count": 7,
   "metadata": {},
   "outputs": [],
   "source": [
    "# The documents returned by the loader are already split, but we can filter out\n",
    "# some chunks e.g. tables in this example\n",
    "texts = [Document(page_content=d.page_content) for d in documents if d.metadata[\"structure\"] not in [\"table\"]]"
   ]
  },
  {
   "cell_type": "code",
   "execution_count": 8,
   "metadata": {},
   "outputs": [
    {
     "name": "stderr",
     "output_type": "stream",
     "text": [
      "Using embedded DuckDB without persistence: data will be transient\n"
     ]
    }
   ],
   "source": [
    "# Set up embeddings and retrieval QA the usual way\n",
    "embedding = OpenAIEmbeddings()\n",
    "vectordb = Chroma.from_documents(documents=texts, embedding=embedding)\n",
    "retriever = vectordb.as_retriever()\n",
    "qa_chain = RetrievalQA.from_chain_type(llm=OpenAI(), \n",
    "                                  chain_type=\"stuff\", \n",
    "                                  retriever=retriever, \n",
    "                                  return_source_documents=True)"
   ]
  },
  {
   "cell_type": "markdown",
   "metadata": {},
   "source": []
  },
  {
   "cell_type": "code",
   "execution_count": 9,
   "metadata": {},
   "outputs": [
    {
     "data": {
      "text/plain": [
       "{'query': 'Are tenants allowed to place signs at the property?',\n",
       " 'result': \" No, tenants are not allowed to place signs at the property, but they may place a sign bearing their name near the entrance at their own cost. They will also be provided with a single listing of their name in the building directory at the landlord's cost.\",\n",
       " 'source_documents': [Document(page_content='Tenant  may place or attach to the  Premises signs  (digital or otherwise) or other such identification as needed after receiving written permission from the  Landlord , which permission shall not be unreasonably withheld. Any damage caused to the Premises by the  Tenant ’s erecting or removing such signs shall be repaired promptly by the  Tenant  at the  Tenant ’s expense . Any signs or other form of identification allowed must conform to all applicable laws, ordinances, etc. governing the same.  Tenant  also agrees to have any window or glass identification completely removed and cleaned at its expense promptly upon vacating the Premises.', metadata={}),\n",
       "  Document(page_content=\"No signage shall be placed by  Tenant  on any portion of the  Project . However,  Tenant  shall be permitted to place a sign bearing its name in a location approved by  Landlord  near the entrance to the  Premises  (at  Tenant's cost ) and will be furnished a single listing of its name in the  Building's directory  (at  Landlord 's cost ), all in accordance with the criteria adopted  from time to time  by  Landlord  for the  Project . Any changes or additional listings in the directory shall be furnished (subject to availability of space) for the  then Building Standard charge .\", metadata={}),\n",
       "  Document(page_content=\"No signage shall be placed by  Tenant  on any portion of the  Project . However,  Tenant  shall be permitted to place a sign bearing its name in a location approved by  Landlord  near the entrance to the  Premises  (at  Tenant's cost ) and will be furnished a single listing of its name in the  Building's directory  (at  Landlord 's cost ), all in accordance with the criteria adopted  from time to time  by  Landlord  for the  Project . Any changes or additional listings in the directory shall be furnished (subject to availability of space) for the  then Building Standard charge .\", metadata={}),\n",
       "  Document(page_content=\"No signage shall be placed by  Tenant  on any portion of the  Project . However,  Tenant  shall be permitted to place a sign bearing its name in a location approved by  Landlord  near the entrance to the  Premises  (at  Tenant's cost ) and will be furnished a single listing of its name in the  Building's directory  (at  Landlord 's cost ), all in accordance with the criteria adopted  from time to time  by  Landlord  for the  Project . Any changes or additional listings in the directory shall be furnished (subject to availability of space) for the  then Building Standard charge .\", metadata={})]}"
      ]
     },
     "execution_count": 9,
     "metadata": {},
     "output_type": "execute_result"
    }
   ],
   "source": [
    "# Try out the retriever with an example query\n",
    "qa_chain(\"Are tenants allowed to place signs at the property?\")"
   ]
  },
  {
   "attachments": {},
   "cell_type": "markdown",
   "metadata": {},
   "source": [
    "## Using Docugami Metadata for High Accuracy Document QA\n",
    "One issue with large documents is that the correct answer to your question may depend on chunks that are far apart in the document. Typical chunking techniques, even with overlap, will struggle with providing the LLM sufficent context to answer such questions. With upcoming very large context LLMs, it may be possible to stuff a lot of tokens, perhaps even entire documents, inside the context but this will still hit limits at some point with very long documents, or a lot of documents.\n",
    "\n",
    "For example, if we ask a more complex question that requires the LLM to draw on chunks from different parts of the document, even OpenAI's powerful LLM is unable to answer correctly. In the following example, the chunking of the document does not end up putting the Landlord name and the prepaid in the same context, and instead ends up finding a few other unrelated chunks from other documents not even related to the Menlo Group landlord."
   ]
  },
  {
   "cell_type": "code",
   "execution_count": 10,
   "metadata": {},
   "outputs": [
    {
     "data": {
      "text/plain": [
       "{'query': 'What is the address of the property leased out by Menlo Group?',\n",
       " 'result': ' 515 Michelin Rd, Denver, CO 80209',\n",
       " 'source_documents': [Document(page_content='Menlo  Group ,  Suite  101 ,  1564  E Broadway Rd ,  Tempe ,  Arizona  85282 , with a copy to the  Building  Management  Office  at the  Project , Attention:  On - Site  Property Manager .', metadata={}),\n",
       "  Document(page_content='Menlo Group , a  Delaware  limited liability company  authorized to transact business in  Arizona .', metadata={}),\n",
       "  Document(page_content='Menlo  Group , a  Delaware  limited liability company  authorized to transact business in  Arizona', metadata={}),\n",
       "  Document(page_content='The parcel of land and the buildings and improvements located on such land known as  Shorebucks Office  5  located at  515  Michelin  Rd ,  Denver ,  CO ,  80209 . The  Project  is legally described in EXHIBIT \"A\" to this  Lease .', metadata={})]}"
      ]
     },
     "execution_count": 10,
     "metadata": {},
     "output_type": "execute_result"
    }
   ],
   "source": [
    "qa_chain(\"What is the address of the property leased out by Menlo Group?\")"
   ]
  },
  {
   "attachments": {},
   "cell_type": "markdown",
   "metadata": {},
   "source": [
    "Docugami offers a better approach using the metadata attached to the documents it returns. By default, semantic tags are returned for all chunks, but in addition if you [use Docugami for various tasks](https://help.docugami.com/home/reports) additional metadata will be added to the chunks automatically.\n",
    "\n",
    "For example, we can build the texts again, but this time read the metadata on the documents returned by docugami, and put some simple key/value pairs on all the text chunks based on the metadata:"
   ]
  },
  {
   "cell_type": "code",
   "execution_count": 11,
   "metadata": {},
   "outputs": [
    {
     "name": "stderr",
     "output_type": "stream",
     "text": [
      "Using embedded DuckDB without persistence: data will be transient\n"
     ]
    }
   ],
   "source": [
    "texts = []\n",
    "for d in documents:\n",
    "    if d.metadata[\"structure\"] not in [\"table\"]: # for parity with the example above, continue to filter out tables\n",
    "        metadata = {\"tag\": d.metadata[\"tag\"]}\n",
    "        for project in d.metadata[\"projects\"]:\n",
    "            for entry in project[\"entries\"]:\n",
    "                metadata[entry[\"heading\"]] = entry[\"value\"]\n",
    "        texts.append(Document(page_content=d.page_content, metadata=metadata))\n",
    "\n",
    "vectordb = Chroma.from_documents(documents=texts, embedding=embedding)\n",
    "retriever = vectordb.as_retriever()\n",
    "qa_chain = RetrievalQA.from_chain_type(llm=OpenAI(), \n",
    "                                  chain_type=\"stuff\", \n",
    "                                  retriever=retriever, \n",
    "                                  return_source_documents=True)\n"
   ]
  },
  {
   "attachments": {},
   "cell_type": "markdown",
   "metadata": {},
   "source": [
    "Let's run the same question again. It returns better results since all the chunks have metadata key/value pairs on them carrying key information about the document even if it is physically very far away."
   ]
  },
  {
   "cell_type": "code",
   "execution_count": 12,
   "metadata": {},
   "outputs": [
    {
     "data": {
      "text/plain": [
       "{'query': 'How much prepaid rent does Menlo Group require at signing?',\n",
       " 'result': \" I don't know.\",\n",
       " 'source_documents': [Document(page_content='Monthly Base Rent', metadata={'tag': 'MonthlyBaseRent', 'Landlord': 'Perry  &  Blair LLC', 'Tenant': 'Shorebucks LLC', 'Rentable Area': '9,753  square feet'}),\n",
       "  Document(page_content='Monthly Base Rent', metadata={'tag': 'MonthlyBaseRent', 'Landlord': 'Menlo Group', 'Tenant': 'Shorebucks LLC', 'Rentable Area': '16,159  square feet'}),\n",
       "  Document(page_content='Monthly Base Rent', metadata={'tag': 'MonthlyBaseRent', 'Landlord': 'DHA Group', 'Tenant': 'Shorebucks LLC', 'Rentable Area': '13,500  square feet'}),\n",
       "  Document(page_content='Monthly Base Rent .', metadata={'tag': 'MonthlyBaseRent', 'Landlord': 'GLORY ROAD LLC', 'Tenant': 'Truetone Lane LLC', 'Rentable Area': '10,004  square feet'})]}"
      ]
     },
     "execution_count": 12,
     "metadata": {},
     "output_type": "execute_result"
    }
   ],
   "source": [
    "qa_chain(\"How much prepaid rent does Menlo Group require at signing?\")"
   ]
  },
  {
   "cell_type": "markdown",
   "metadata": {},
   "source": []
  }
 ],
 "metadata": {
  "kernelspec": {
   "display_name": ".venv",
   "language": "python",
   "name": "python3"
  },
  "language_info": {
   "codemirror_mode": {
    "name": "ipython",
    "version": 3
   },
   "file_extension": ".py",
   "mimetype": "text/x-python",
   "name": "python",
   "nbconvert_exporter": "python",
   "pygments_lexer": "ipython3",
   "version": "3.10.6"
  },
  "orig_nbformat": 4
 },
 "nbformat": 4,
 "nbformat_minor": 2
}
