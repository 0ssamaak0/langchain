{
 "cells": [
  {
   "cell_type": "markdown",
   "metadata": {},
   "source": [
    "# Comparing Chain Outputs\n",
    "[![Open In Colab](https://colab.research.google.com/assets/colab-badge.svg)](https://colab.research.google.com/github/langchain-ai/langchain/blob/master/docs/docs/guides/evaluation/examples/comparisons.ipynb)\n",
    "\n",
    "Suppose you have two different prompts (or LLMs). How do you know which will generate \"better\" results?\n",
    "\n",
    "One automated way to predict the preferred configuration is to use a `PairwiseStringEvaluator` like the `PairwiseStringEvalChain`<a name=\"cite_ref-1\"></a>[<sup>[1]</sup>](#cite_note-1). This chain prompts an LLM to select which output is preferred, given a specific input.\n",
    "\n",
    "For this evaluation, we will need 3 things:\n",
    "1. An evaluator\n",
    "2. A dataset of inputs\n",
    "3. 2 (or more) LLMs, Chains, or Agents to compare\n",
    "\n",
    "Then we will aggregate the results to determine the preferred model.\n",
    "\n",
    "### Step 1. Create the Evaluator\n",
    "\n",
    "In this example, you will use gpt-4 to select which output is preferred."
   ]
  },
  {
   "cell_type": "code",
   "execution_count": null,
   "metadata": {},
   "outputs": [],
   "source": [
    "%pip install --upgrade --quiet  langchain langchain-openai"
   ]
  },
  {
   "cell_type": "code",
   "execution_count": 4,
   "metadata": {
    "tags": []
   },
   "outputs": [],
   "source": [
    "from langchain.evaluation import load_evaluator\n",
    "\n",
    "eval_chain = load_evaluator(\"pairwise_string\")"
   ]
  },
  {
   "cell_type": "markdown",
   "metadata": {},
   "source": [
    "### Step 2. Select Dataset\n",
    "\n",
    "If you already have real usage data for your LLM, you can use a representative sample. More examples\n",
    "provide more reliable results. We will use some example queries someone might have about how to use langchain here."
   ]
  },
  {
   "cell_type": "code",
   "execution_count": 5,
   "metadata": {
    "tags": []
   },
   "outputs": [
    {
     "data": {
      "application/vnd.jupyter.widget-view+json": {
       "model_id": "4b33d2bbbe7641e4be8ad57faec4658b",
       "version_major": 2,
       "version_minor": 0
      },
      "text/plain": [
       "Downloading readme:   0%|          | 0.00/356 [00:00<?, ?B/s]"
      ]
     },
     "metadata": {},
     "output_type": "display_data"
    },
    {
     "data": {
      "application/vnd.jupyter.widget-view+json": {
       "model_id": "5fd9f6417822461d8fa0a75c8112c1ba",
       "version_major": 2,
       "version_minor": 0
      },
      "text/plain": [
       "Downloading data:   0%|          | 0.00/2.77k [00:00<?, ?B/s]"
      ]
     },
     "metadata": {},
     "output_type": "display_data"
    },
    {
     "data": {
      "application/vnd.jupyter.widget-view+json": {
       "model_id": "dd01837e56a04401a991373278f011f5",
       "version_major": 2,
       "version_minor": 0
      },
      "text/plain": [
       "Generating train split:   0%|          | 0/50 [00:00<?, ? examples/s]"
      ]
     },
     "metadata": {},
     "output_type": "display_data"
    }
   ],
   "source": [
    "from langchain.evaluation.loading import load_dataset\n",
    "\n",
    "dataset = load_dataset(\"langchain-howto-queries\")"
   ]
  },
  {
   "cell_type": "markdown",
   "metadata": {},
   "source": [
    "### Step 3. Define Models to Compare\n",
    "\n",
    "We will be comparing two agents in this case."
   ]
  },
  {
   "cell_type": "code",
   "execution_count": 6,
   "metadata": {
    "tags": []
   },
   "outputs": [],
   "source": [
    "from langchain.agents import AgentType, Tool, initialize_agent\n",
    "from langchain_community.utilities import SerpAPIWrapper\n",
    "from langchain_openai import ChatOpenAI\n",
    "\n",
    "# Initialize the language model\n",
    "# You can add your own OpenAI API key by adding openai_api_key=\"<your_api_key>\"\n",
    "llm = ChatOpenAI(temperature=0, model=\"gpt-3.5-turbo-0613\")\n",
    "\n",
    "# Initialize the SerpAPIWrapper for search functionality\n",
    "# Replace <your_api_key> in openai_api_key=\"<your_api_key>\" with your actual SerpAPI key.\n",
    "search = SerpAPIWrapper()\n",
    "\n",
    "# Define a list of tools offered by the agent\n",
    "tools = [\n",
    "    Tool(\n",
    "        name=\"Search\",\n",
    "        func=search.run,\n",
    "        coroutine=search.arun,\n",
    "        description=\"Useful when you need to answer questions about current events. You should ask targeted questions.\",\n",
    "    ),\n",
    "]"
   ]
  },
  {
   "cell_type": "code",
   "execution_count": 7,
   "metadata": {
    "tags": []
   },
   "outputs": [
    {
     "name": "stderr",
     "output_type": "stream",
     "text": [
      "/Users/bagatur/langchain/libs/core/langchain_core/_api/deprecation.py:115: LangChainDeprecationWarning: The function `initialize_agent` was deprecated in LangChain 0.1.0 and will be removed in 0.2.0. Use Use new agent constructor methods like create_react_agent, create_json_agent, create_structured_chat_agent, etc. instead.\n",
      "  warn_deprecated(\n"
     ]
    }
   ],
   "source": [
    "functions_agent = initialize_agent(\n",
    "    tools, llm, agent=AgentType.OPENAI_MULTI_FUNCTIONS, verbose=True\n",
    ")\n",
    "conversations_agent = initialize_agent(\n",
    "    tools, llm, agent=AgentType.CHAT_ZERO_SHOT_REACT_DESCRIPTION, verbose=True\n",
    ")"
   ]
  },
  {
   "cell_type": "markdown",
   "metadata": {},
   "source": [
    "### Step 4. Generate Responses\n",
    "\n",
    "We will generate outputs for each of the models before evaluating them."
   ]
  },
  {
   "cell_type": "code",
   "execution_count": null,
   "metadata": {
    "tags": []
   },
   "outputs": [
    {
     "data": {
      "application/vnd.jupyter.widget-view+json": {
       "model_id": "0b89afa41d04497f972da49a9426d795",
       "version_major": 2,
       "version_minor": 0
      },
      "text/plain": [
       "  0%|          | 0/20 [00:00<?, ?it/s]"
      ]
     },
     "metadata": {},
     "output_type": "display_data"
    },
    {
     "name": "stderr",
     "output_type": "stream",
     "text": [
      "/Users/bagatur/langchain/libs/core/langchain_core/_api/deprecation.py:115: LangChainDeprecationWarning: The function `acall` was deprecated in LangChain 0.1.0 and will be removed in 0.2.0. Use ainvoke instead.\n",
      "  warn_deprecated(\n"
     ]
    },
    {
     "name": "stdout",
     "output_type": "stream",
     "text": [
      "\n",
      "\n",
      "\u001b[1m> Entering new AgentExecutor chain in thread asyncio_0...\u001b[0m\n",
      "\n",
      "\n",
      "\u001b[1m> Entering new AgentExecutor chain in thread asyncio_1...\u001b[0m\n",
      "\n",
      "\n",
      "\u001b[1m> Entering new AgentExecutor chain in thread asyncio_1...\u001b[0m\n",
      "\n",
      "\n",
      "\u001b[1m> Entering new AgentExecutor chain in thread asyncio_3...\u001b[0m\n",
      "\n",
      "\n",
      "\u001b[1m> Entering new AgentExecutor chain in thread asyncio_4...\u001b[0m\n",
      "\n",
      "\n",
      "\u001b[1m> Entering new AgentExecutor chain in thread asyncio_1...\u001b[0m\n",
      "\u001b[32;1m\u001b[1;3mQuestion: How can I track student progress with LangChain?\n",
      "Thought: I need to find information on how to track student progress with LangChain.\n",
      "Action:\n",
      "```\n",
      "{\n",
      "  \"action\": \"Search\",\n",
      "  \"action_input\": \"How to track student progress with LangChain\"\n",
      "}\n",
      "```\u001b[0m\u001b[32;1m\u001b[1;3mQuestion: How can I ensure the accuracy and reliability of the travel data with LangChain?\n",
      "Thought: LangChain is a blockchain-based platform, so it should have mechanisms in place to ensure the accuracy and reliability of data. I should search for information on how LangChain ensures data accuracy and reliability in the context of travel data.\n",
      "\n",
      "Action:\n",
      "```\n",
      "{\n",
      "  \"action\": \"Search\",\n",
      "  \"action_input\": \"How does LangChain ensure accuracy and reliability of travel data?\"\n",
      "}\n",
      "```\u001b[0m\u001b[32;1m\u001b[1;3mYes, you can use LangChain to automatically rate limit or retry failed API calls. LangChain provides a built-in mechanism for handling rate limiting and retrying failed requests.\n",
      "\n",
      "To rate limit API calls, you can use the `rateLimit` function provided by LangChain. This function allows you to specify the maximum number of requests allowed within a certain time period. If the rate limit is exceeded, LangChain will automatically delay the requests until the rate limit is reset.\n",
      "\n",
      "To retry failed API calls, you can use the `retry` function provided by LangChain. This function allows you to specify the maximum number of retries and the delay between each retry. If a request fails, LangChain will automatically retry the request according to the specified configuration.\n",
      "\n",
      "By combining the `rateLimit` and `retry` functions, you can ensure that your API calls are automatically rate limited and retried in case of failures, providing a more robust and reliable integration with external APIs.\u001b[0m\n",
      "\n",
      "\u001b[1m> Finished chain.\u001b[0m\n",
      "\n",
      "Observation: \u001b[36;1m\u001b[1;3m['How can I track student progress with LangChain? langchain how to handle different document formats? Can I chain API calls to different services in LangChain?', '\"How can I track student progress with LangChain?\", \"langchain how to handle ... // \"Can I use LangChain to track and manage travel alerts and updates?', 'By initializing the retriever with a document store, you can easily find relevant documents based on your query. In the example below, we search ...', 'Any LLM-related development requires proper experiment tracking and metric logging. These logs help track the model inputs and outputs and the ...', 'Dive into LangChain with a free learning app taught by LangChain. App link: https://lang-teacher.streamlit.app/ Developed in collaboration ...', 'Tracking student progress is core to teaching. Data-driven instruction makes it easy to assess performance to maximize learning outcomes.', \"Encourage them to track their personal progress. Once you've created a student tracking system and you're proactively recording student data, ...\", \"WCPM procedures can be used to monitor the student's progress. Many educators have found WCPM to be a better tool for monitoring students' progress than ...\", 'Within Modules, you can view the progress of your students and see how they are progressing through the course. Module progress is determined - 973.', 'This comprehensive record provides valuable insights, helping teachers track progress, identify recurring difficulties, and make data-driven decisions to ...']\u001b[0m\n",
      "Thought:\u001b[32;1m\u001b[1;3mThere are several relevant observations that mention tracking student progress with LangChain. I should review these observations to gather information on how to track student progress with LangChain.\n",
      "Action:\n",
      "```\n",
      "{\n",
      "  \"action\": \"Search\",\n",
      "  \"action_input\": \"How can I track student progress with LangChain?\"\n",
      "}\n",
      "```\u001b[0m\u001b[32;1m\u001b[1;3mTo ensure the accuracy and reliability of travel data with LangChain, you can follow these steps:\n",
      "\n",
      "1. Data Validation: Validate the travel data by checking for any inconsistencies, errors, or missing information. This can be done by using data validation techniques such as cross-referencing with other reliable sources, verifying data against known standards, and conducting data quality checks.\n",
      "\n",
      "2. Data Cleaning: Clean the travel data by removing any duplicate entries, correcting errors, and standardizing the format. This will help improve the accuracy and reliability of the data.\n",
      "\n",
      "3. Data Integration: Integrate the travel data from different sources to create a comprehensive and unified dataset. This can be done by using data integration tools or techniques such as data mapping and data transformation.\n",
      "\n",
      "4. Data Governance: Implement data governance practices to ensure the accuracy and reliability of travel data. This includes establishing data quality standards, defining data ownership and accountability, and implementing data governance processes and controls.\n",
      "\n",
      "5. Data Security: Protect the travel data from unauthorized access, manipulation, or loss. Implement security measures such as data encryption, access controls, and regular data backups to ensure the integrity and reliability of the data.\n",
      "\n",
      "6. Data Monitoring: Continuously monitor the travel data for any anomalies, errors, or inconsistencies. This can be done by setting up data monitoring tools or implementing data quality monitoring processes.\n",
      "\n",
      "7. Data Auditing: Conduct regular audits of the travel data to verify its accuracy and reliability. This can involve reviewing data samples, conducting data reconciliation, and performing data validation checks.\n",
      "\n",
      "By following these steps, you can ensure the accuracy and reliability of travel data with LangChain.\u001b[0m\n",
      "\n",
      "\u001b[1m> Finished chain.\u001b[0m\n",
      "\u001b[32;1m\u001b[1;3mTo track student progress with LangChain, you can follow these steps:\n",
      "\n",
      "1. Create a LangChain account: Sign up for a LangChain account as an instructor or administrator.\n",
      "\n",
      "2. Set up your class: Create a class or multiple classes within your LangChain account. Assign a unique class code to each class.\n",
      "\n",
      "3. Add students to your class: Invite students to join your class by sharing the class code with them. Students can use the code to join your class through their LangChain accounts.\n",
      "\n",
      "4. Assign tasks and assessments: Create tasks and assessments for your students. You can choose from a variety of question types, including multiple-choice, fill in the blanks, and writing prompts. Assign these tasks to specific students or the entire class.\n",
      "\n",
      "5. Monitor student progress: Once students start completing the assigned tasks, you can monitor their progress in real-time. LangChain provides detailed analytics and reports that show individual student performance, overall class performance, and areas where students may need additional support.\n",
      "\n",
      "6. Provide feedback: Review and provide feedback on student submissions. You can leave comments, suggestions, and corrections directly on their work within the LangChain platform.\n",
      "\n",
      "7. Track overall class progress: Use LangChain's class-level analytics to track the overall progress of your class. Identify trends, areas of improvement, and adjust your teaching strategies accordingly.\n",
      "\n",
      "8. Communicate with students: LangChain allows you to communicate with your students through the platform. You can send announcements, reminders, and individual messages to provide guidance and support.\n",
      "\n",
      "9. Generate progress reports: LangChain enables you to generate progress reports for individual students or the entire class. These reports can be shared with students, parents, or other stakeholders to showcase student achievements and areas for improvement.\n",
      "\n",
      "By following these steps, you can effectively track student progress with LangChain and provide personalized support to help your students succeed in their language learning journey.\u001b[0m\n",
      "\n",
      "\u001b[1m> Finished chain.\u001b[0m\n",
      "\n",
      "Observation: \u001b[36;1m\u001b[1;3m['\"Can I use LangChain to automatically rate limit or retry failed API calls?\", \"How can I ensure the accuracy and reliability of the travel data with LangChain?\" ...', 'How can I ensure the accuracy and reliability of the travel data with LangChain? How can I track student progress with LangChain? langchain how to handle ...', 'LangChain comparison evaluators measure + compare outputs from 2 different chains or LLMs + are invaluable for A/B testing + AI-assisted RL.', 'LangChain is a powerful, open-source framework designed to help you develop applications powered by a language model, particularly a large ...', 'Using data cleansing techniques ensures clean and accurate data sets. Also, security measures should be implemented to protect sensitive data. Testing.', 'Application: Use our agent to challenge or support methodologies that ensure Accuracy, Consistency and Completeness of the Data. (Users can ask: ...', 'The paper focuses on using blockchain technology for ensuring security and data integrity in multi-agent systems. Proceedings Article•DOI.', 'With Langchain, doctors and nurses can communicate with their patients more effectively, ensuring accurate diagnoses, appropriate treatments, ...', 'LangChain streamlines data handling for LLMs, making responses more accurate and context-aware. Combining document chunks and custom prompts ...', 'Powered by cutting-edge LangChain technology, this innovative tool provides instant access to reliable sources as soon as new information is released. The ...']\u001b[0m\n",
      "Thought:\u001b[32;1m\u001b[1;3mThe search results provide some information about LangChain, but they don't specifically address how it ensures the accuracy and reliability of travel data. I should try a different search query to find more relevant information.\n",
      "\n",
      "Action:\n",
      "```\n",
      "{\n",
      "  \"action\": \"Search\",\n",
      "  \"action_input\": \"How does LangChain ensure accuracy and reliability of travel data?\"\n",
      "}\n",
      "```\n",
      "\n",
      "\u001b[0m\n",
      "Observation: \u001b[36;1m\u001b[1;3m['\"Can I use LangChain to automatically rate limit or retry failed API calls?\", \"How can I ensure the accuracy and reliability of the travel data with LangChain?\" ...', 'How can I ensure the accuracy and reliability of the travel data with LangChain? How can I track student progress with LangChain? langchain how to handle ...', 'LangChain comparison evaluators measure + compare outputs from 2 different chains or LLMs + are invaluable for A/B testing + AI-assisted RL.', 'LangChain is a powerful, open-source framework designed to help you develop applications powered by a language model, particularly a large ...', 'Using data cleansing techniques ensures clean and accurate data sets. Also, security measures should be implemented to protect sensitive data. Testing.', 'Application: Use our agent to challenge or support methodologies that ensure Accuracy, Consistency and Completeness of the Data. (Users can ask: ...', 'The paper focuses on using blockchain technology for ensuring security and data integrity in multi-agent systems. Proceedings Article•DOI.', 'With Langchain, doctors and nurses can communicate with their patients more effectively, ensuring accurate diagnoses, appropriate treatments, ...', 'LangChain streamlines data handling for LLMs, making responses more accurate and context-aware. Combining document chunks and custom prompts ...', 'Powered by cutting-edge LangChain technology, this innovative tool provides instant access to reliable sources as soon as new information is released. The ...']\u001b[0m\n",
      "Thought:\u001b[32;1m\u001b[1;3mThe search results still do not provide specific information about how LangChain ensures the accuracy and reliability of travel data. It seems that there may not be readily available information on this topic. In this case, it would be best to directly reach out to the LangChain team or consult their documentation for more detailed information.\n",
      "\n",
      "Final Answer: It is unclear how LangChain ensures the accuracy and reliability of travel data.\u001b[0m\n",
      "\n",
      "\u001b[1m> Finished chain.\u001b[0m\n",
      "\n",
      "Observation: \u001b[36;1m\u001b[1;3m['How can I track student progress with LangChain? langchain how to handle different document formats? Can I chain API calls to different services in LangChain?', '\"How can I track student progress with LangChain?\", \"langchain how to handle ... // \"Can I use LangChain to track and manage travel alerts and updates?', 'Comet is an AI-centric platform for tracking all machine-learning projects. It integrates with various Machine Learning (ML) service providers ...', \"In this video, learn how to see your students' progress and usage using Mango Classroom. We'll cover how to locate each students' activity, ...\", 'Within Modules, you can view the progress of your students and see how they are progressing through the course. Module progress is determined - 973.', 'Tracking student progress is core to teaching. Data-driven instruction makes it easy to assess performance to maximize learning outcomes.', \"Encourage them to track their personal progress. Once you've created a student tracking system and you're proactively recording student data, ...\", 'Instructors: Follow along with the badges students are earning in the Progress tab of their Canvas Badges app. Enable the leaderboard for an - 528731.', 'These interactive and customizable reports allow teachers to drill into student work by many different metrics including learning time, skill ...', 'This comprehensive record provides valuable insights, helping teachers track progress, identify recurring difficulties, and make data-driven decisions to ...']\u001b[0m\n",
      "Thought:\u001b[32;1m\u001b[1;3mThere are several observations that mention tracking student progress with LangChain. Some of the observations mention using data-driven instruction to assess performance and maximize learning outcomes. Others mention creating a student tracking system and proactively recording student data. I should review these observations to gather more information on how to track student progress with LangChain.\n",
      "Action:\n",
      "```\n",
      "{\n",
      "  \"action\": \"Search\",\n",
      "  \"action_input\": \"How to track student progress with LangChain data-driven instruction\"\n",
      "}\n",
      "```\n",
      "\u001b[0m\n",
      "Observation: \u001b[36;1m\u001b[1;3m['So what are some key data for monitoring the progress of English learner students? Content assessment results: English language arts, ...', 'Another way is to assess all of the material from the start, and then track progress as students actually learn the concepts. * Give teachers a stake in the ...', 'This guide to Data Driven Instruction will give educators the explanations and resources they need to use data to drive and improve classroom instruction.', 'This can be done by creating visual goals and allowing students to measure their own progress. Help teachers plan time for student self-analysis ...', 'What are some data-driven strategies to measure student progress? ; 1. Define learning objectives and indicators ; 2. Collect and organize data ; 3.', 'Critically thinking about data crystalizes views of students to track performance, engagement, and instructional effectiveness. Instructional ...', 'This can be accomplished through careful analysis of learner data, such as test scores, engagement metrics, demographic information, etc., which ...', 'Using data to drive instruction helps check for student understanding. Explore tips for data driven instruction and data driven assessments.', \"If you're new to data-driven instruction, the key is to start small. Have your teachers focus on one subject, or one of their classes, to begin ...\", 'In short, data-driven instruction is a method of making instructional decisions based on analyzing data. In many ways, teachers already ...']\u001b[0m\n",
      "Thought:\u001b[32;1m\u001b[1;3mThere are several observations that mention using data-driven instruction to track student progress with LangChain. Data-driven instruction involves using data to assess performance and make instructional decisions. I should review these observations to gather more information on how to track student progress with LangChain using data-driven instruction.\n",
      "Action:\n",
      "```\n",
      "{\n",
      "  \"action\": \"Search\",\n",
      "  \"action_input\": \"How to track student progress with LangChain using data-driven instruction\"\n",
      "}\n",
      "```\n",
      "\u001b[0m\n",
      "Observation: \u001b[36;1m\u001b[1;3m['This guide to Data Driven Instruction will give educators the explanations and resources they need to use data to drive and improve classroom instruction.', 'Data driven instruction is really just informed instruction. Teachers focuses on gathering and analyzing data to help ensure that they know where students ...', \"It helps identify learning gaps, track progress, and adjust instructional strategies accordingly. By utilizing data, teachers can address students' specific ...\", 'Alton Central School values the importance of using data to inform instruction. ... Creating new assessments to monitor student progress; what assessments?', 'See a complete picture of student performance on teacher-assigned assessments. Analyze overall scores, class-specific data, subgroup performance, question-level ...', 'Data-driven instruction helps identify learning gaps and support learners in need in online and hybrid classrooms.', 'Another way is to assess all of the material from the start, and then track progress as students actually learn the concepts. * Give teachers a stake in the ...', 'Tools: Tracking Progress\\u200b\\u200b Teachers may create forms to help students collect data and organize their work, establish a system of student work folders with ...', 'Set Thoughtful Data Points to Track ... Avoid the pitfall of gathering too much information by limiting the focus to essential data points.', 'How to Track Student Reading Progress Using a Reading Conferencing Binder // FREE Download! 3 Peaks Classroom•1.7K views · 4:27. Go to channel ...']\u001b[0m\n",
      "Thought:\u001b[32;1m\u001b[1;3mThere are several observations that mention using data-driven instruction to track student progress with LangChain. Data-driven instruction involves using data to assess performance, identify learning gaps, and adjust instructional strategies accordingly. It helps ensure that teachers know where students are in their learning and can provide targeted support. I should review these observations to gather more information on how to track student progress with LangChain using data-driven instruction.\n",
      "\n",
      "Final Answer: To track student progress with LangChain, you can use data-driven instruction. This involves gathering and analyzing data to assess performance, identify learning gaps, and adjust instructional strategies accordingly. By utilizing data, teachers can address students' specific needs and provide targeted support.\u001b[0m\n",
      "\n",
      "\u001b[1m> Finished chain.\u001b[0m\n",
      "\n",
      "\n",
      "\u001b[1m> Entering new AgentExecutor chain in thread asyncio_6...\u001b[0m\n",
      "\n",
      "\n",
      "\u001b[1m> Entering new AgentExecutor chain in thread asyncio_5...\u001b[0m\n",
      "\n",
      "\n",
      "\u001b[1m> Entering new AgentExecutor chain in thread asyncio_6...\u001b[0m\n",
      "\n",
      "\n",
      "\u001b[1m> Entering new AgentExecutor chain in thread asyncio_7...\u001b[0m\n",
      "\n",
      "\n",
      "\u001b[1m> Entering new AgentExecutor chain in thread asyncio_3...\u001b[0m\n",
      "\n",
      "\n",
      "\u001b[1m> Entering new AgentExecutor chain in thread asyncio_7...\u001b[0m\n",
      "\u001b[32;1m\u001b[1;3mQuestion: How to handle different document formats?\n",
      "\n",
      "Thought: To handle different document formats, we need to understand what types of formats are involved and what tools or techniques can be used to handle them.\n",
      "\n",
      "Action:\n",
      "```\n",
      "{\n",
      "  \"action\": \"Search\",\n",
      "  \"action_input\": \"how to handle different document formats\"\n",
      "}\n",
      "```\n",
      "\n",
      "\u001b[0m\u001b[32;1m\u001b[1;3mQuestion: Can I chain API calls to different services in LangChain?\n",
      "Thought: I need to check if LangChain supports chaining API calls to different services.\n",
      "Action:\n",
      "```\n",
      "{\n",
      "  \"action\": \"Search\",\n",
      "  \"action_input\": \"Can I chain API calls to different services in LangChain?\"\n",
      "}\n",
      "```\n",
      "\u001b[0m\u001b[32;1m\u001b[1;3mYes, you can chain API calls to different services in LangChain. LangChain allows you to define a sequence of actions, where each action can be an API call to a specific service. You can specify the input and output of each action, and the output of one action can be used as the input for the next action in the chain. This allows you to create complex workflows by combining the capabilities of multiple services.\u001b[0m\n",
      "\n",
      "\u001b[1m> Finished chain.\u001b[0m\n",
      "\n",
      "Observation: \u001b[36;1m\u001b[1;3mChains are one of the core concepts of LangChain. Chains allow you to go beyond just a single API call to a language model and instead chain together multiple calls in a logical sequence. They allow you to combine multiple components to create a coherent application.\u001b[0m\n",
      "Thought:\n",
      "Observation: \u001b[36;1m\u001b[1;3mHere are some best practices for handling files with different formats.\u001b[0m\n",
      "Thought:\u001b[32;1m\u001b[1;3mLangChain supports chaining API calls to different services through its core concept of \"chains\". Chains allow you to combine multiple components and create a coherent application by chaining together multiple API calls in a logical sequence. This means you can use different services within a single chain to achieve your desired functionality.\n",
      "\n",
      "Final Answer: Yes, you can chain API calls to different services in LangChain.\u001b[0m\n",
      "\n",
      "\u001b[1m> Finished chain.\u001b[0m\n",
      "\u001b[32;1m\u001b[1;3mI have found some best practices for handling files with different formats. Let's see what they are.\n",
      "\n",
      "Action:\n",
      "```\n",
      "{\n",
      "  \"action\": \"Search\",\n",
      "  \"action_input\": \"best practices for handling files with different formats\"\n",
      "}\n",
      "```\u001b[0m\u001b[32;1m\u001b[1;3mTo handle API errors in your langchain app, you can follow these steps:\n",
      "\n",
      "1. Identify the possible types of API errors that can occur. This could include network errors, server errors, authentication errors, or validation errors.\n",
      "\n",
      "2. Implement error handling mechanisms in your code. This can be done by using try-catch blocks or error handling middleware, depending on the programming language or framework you are using.\n",
      "\n",
      "3. When making API requests, check the response status code. If it indicates an error (e.g., 4xx or 5xx status codes), handle the error accordingly.\n",
      "\n",
      "4. For network errors, you can display an error message to the user indicating that there was a problem with the network connection. You can also provide an option to retry the request.\n",
      "\n",
      "5. For server errors, you can display a generic error message to the user and log the error details for debugging purposes. You may also consider implementing a retry mechanism for certain types of server errors.\n",
      "\n",
      "6. For authentication errors, you can redirect the user to a login page or display an error message indicating that the user is not authorized to access the requested resource.\n",
      "\n",
      "7. For validation errors, you can display specific error messages to the user indicating which fields are invalid and provide guidance on how to correct them.\n",
      "\n",
      "8. It is also a good practice to log all API errors for monitoring and troubleshooting purposes. This can help you identify recurring issues and improve the overall reliability of your app.\n",
      "\n",
      "Remember to handle errors gracefully and provide meaningful feedback to the user to enhance the user experience.\n",
      "\n",
      "Final Answer: To handle API errors in your langchain app, you need to identify the types of errors, implement error handling mechanisms, check response status codes, display appropriate error messages, log errors for debugging, and provide meaningful feedback to the user.\u001b[0m\n",
      "\n",
      "\u001b[1m> Finished chain.\u001b[0m\n",
      "\u001b[32;1m\u001b[1;3mHandling different document formats can be done using various techniques and tools. Here are a few approaches you can consider:\n",
      "\n",
      "1. Manual Conversion: Manually converting documents from one format to another can be a time-consuming process, but it allows for full control over the conversion. You can use software like Microsoft Word, Adobe Acrobat, or online conversion tools to convert documents between formats.\n",
      "\n",
      "2. Libraries and APIs: Many programming languages have libraries and APIs that can handle document conversion. For example, in Python, you can use libraries like PyPDF2 for PDF manipulation, python-docx for Word document manipulation, and xlrd/xlwt for Excel document manipulation. These libraries provide functions to read, write, and convert documents in different formats.\n",
      "\n",
      "3. Document Conversion Tools: There are several standalone tools available that can handle document conversion. These tools often support a wide range of formats and provide batch conversion capabilities. Some popular document conversion tools include Adobe Acrobat, Calibre, and Pandoc.\n",
      "\n",
      "4. Online Conversion Services: There are many online services that offer document conversion. These services allow you to upload your document and convert it to the desired format. Some popular online conversion services include Zamzar, OnlineConvert, and Smallpdf.\n",
      "\n",
      "5. Document Parsing: If you need to extract specific information from documents, you can use document parsing techniques. This involves analyzing the document structure and extracting relevant data. Libraries like Apache Tika and PDFMiner can help with document parsing.\n",
      "\n",
      "6. Document Management Systems: If you frequently work with different document formats, using a document management system can simplify the process. These systems provide features like document indexing, search, version control, and document conversion. Some popular document management systems include SharePoint, Google Drive, and Dropbox.\n",
      "\n",
      "The choice of approach depends on your specific requirements, the volume of documents, and the level of automation needed.\u001b[0m\n",
      "\n",
      "\u001b[1m> Finished chain.\u001b[0m\n",
      "\n",
      "Observation: \u001b[36;1m\u001b[1;3mWhat are some best practices for handling files with different formats?\u001b[0m\n",
      "Thought:\u001b[32;1m\u001b[1;3mHandling API errors in your Langchain app is an important aspect of ensuring a smooth user experience. Here are some steps you can follow to handle API errors effectively:\n",
      "\n",
      "1. Check the API documentation: Familiarize yourself with the API documentation to understand the possible error responses and their meanings. This will help you handle specific errors appropriately.\n",
      "\n",
      "2. Use error handling mechanisms: Most programming languages provide error handling mechanisms such as try-catch blocks or error callbacks. Wrap your API calls in these mechanisms to catch any errors that occur during the request.\n",
      "\n",
      "3. Handle different types of errors: API errors can be categorized into different types, such as network errors, server errors, or client errors. Handle each type of error differently based on its nature. For example, for network errors, you can display a message to the user to check their internet connection.\n",
      "\n",
      "4. Display user-friendly error messages: Instead of displaying raw error messages returned by the API, create user-friendly error messages that provide meaningful information to the user. For example, instead of displaying \"500 Internal Server Error,\" you can display a message like \"Oops! Something went wrong. Please try again later.\"\n",
      "\n",
      "5. Provide error feedback to the user: When an API error occurs, provide feedback to the user so they know that something went wrong. This can be done through error messages, notifications, or any other appropriate means.\n",
      "\n",
      "6. Retry failed requests: In some cases, API errors may occur due to temporary issues. Implement a retry mechanism to automatically retry failed requests after a certain period of time. This can help improve the success rate of API calls.\n",
      "\n",
      "7. Log errors for debugging: Log API errors to a log file or a logging service for debugging purposes. This will help you identify and fix any issues with the API integration.\n",
      "\n",
      "8. Monitor API performance: Regularly monitor the performance of the APIs you are using. This can help you identify any recurring errors or performance issues and take appropriate actions.\n",
      "\n",
      "By following these steps, you can effectively handle API errors in your Langchain app and provide a better user experience.\u001b[0m\n",
      "\n",
      "\u001b[1m> Finished chain.\u001b[0m\n",
      "\u001b[32;1m\u001b[1;3mI have found some best practices for handling files with different formats. Let's see what they are.\n",
      "\n",
      "Action:\n",
      "```\n",
      "{\n",
      "  \"action\": \"Search\",\n",
      "  \"action_input\": \"best practices for handling files with different formats\"\n",
      "}\n",
      "```\n",
      "\n",
      "\u001b[0m\n",
      "Observation: \u001b[36;1m\u001b[1;3mWhat are some best practices for handling files with different formats?\u001b[0m\n",
      "Thought:\u001b[32;1m\u001b[1;3mI have found some best practices for handling files with different formats. Let's see what they are.\n",
      "\n",
      "Action:\n",
      "```\n",
      "{\n",
      "  \"action\": \"Search\",\n",
      "  \"action_input\": \"best practices for handling files with different formats\"\n",
      "}\n",
      "```\n",
      "\n",
      "\n",
      "\u001b[0m\n",
      "Observation: \u001b[36;1m\u001b[1;3mWhat are some best practices for handling files with different formats?\u001b[0m\n",
      "Thought:\u001b[32;1m\u001b[1;3mI have found some best practices for handling files with different formats. Let's see what they are.\n",
      "\n",
      "Action:\n",
      "```\n",
      "{\n",
      "  \"action\": \"Search\",\n",
      "  \"action_input\": \"best practices for handling files with different formats\"\n",
      "}\n",
      "```\n",
      "\n",
      "\n",
      "\u001b[0m\n",
      "Observation: \u001b[36;1m\u001b[1;3mWhat are some best practices for handling files with different formats?\u001b[0m\n",
      "Thought:\u001b[32;1m\u001b[1;3mI have found some best practices for handling files with different formats. Let's see what they are.\n",
      "\n",
      "Action:\n",
      "```\n",
      "{\n",
      "  \"action\": \"Search\",\n",
      "  \"action_input\": \"best practices for handling files with different formats\"\n",
      "}\n",
      "```\n",
      "\n",
      "\n",
      "\u001b[0m\n",
      "Observation: \u001b[36;1m\u001b[1;3mWhat are some best practices for handling files with different formats?\u001b[0m\n",
      "Thought:\u001b[32;1m\u001b[1;3mI have found some best practices for handling files with different formats. Let's see what they are.\n",
      "\n",
      "Action:\n",
      "```\n",
      "{\n",
      "  \"action\": \"Search\",\n",
      "  \"action_input\": \"best practices for handling files with different formats\"\n",
      "}\n",
      "```\n",
      "\n",
      "\n",
      "\u001b[0m\n",
      "Observation: \u001b[36;1m\u001b[1;3mWhat are some best practices for handling files with different formats?\u001b[0m\n",
      "Thought:\u001b[32;1m\u001b[1;3mI have found some best practices for handling files with different formats. Let's see what they are.\n",
      "\n",
      "Action:\n",
      "```\n",
      "{\n",
      "  \"action\": \"Search\",\n",
      "  \"action_input\": \"best practices for handling files with different formats\"\n",
      "}\n",
      "```\n",
      "\n",
      "\n",
      "\u001b[0m\n",
      "Observation: \u001b[36;1m\u001b[1;3mWhat are some best practices for handling files with different formats?\u001b[0m\n",
      "Thought:\u001b[32;1m\u001b[1;3mI have found some best practices for handling files with different formats. Let's see what they are.\n",
      "\n",
      "Action:\n",
      "```\n",
      "{\n",
      "  \"action\": \"Search\",\n",
      "  \"action_input\": \"best practices for handling files with different formats\"\n",
      "}\n",
      "```\n",
      "\n",
      "\n",
      "\u001b[0m\n",
      "Observation: \u001b[36;1m\u001b[1;3mWhat are some best practices for handling files with different formats?\u001b[0m\n",
      "Thought:"
     ]
    }
   ],
   "source": [
    "import asyncio\n",
    "\n",
    "from tqdm.notebook import tqdm\n",
    "\n",
    "results = []\n",
    "agents = [functions_agent, conversations_agent]\n",
    "concurrency_level = 6  # How many concurrent agents to run. May need to decrease if OpenAI is rate limiting.\n",
    "\n",
    "# We will only run the first 20 examples of this dataset to speed things up\n",
    "# This will lead to larger confidence intervals downstream.\n",
    "batch = []\n",
    "for example in tqdm(dataset[:20]):\n",
    "    batch.extend([agent.acall(example[\"inputs\"]) for agent in agents])\n",
    "    if len(batch) >= concurrency_level:\n",
    "        batch_results = await asyncio.gather(*batch, return_exceptions=True)\n",
    "        results.extend(list(zip(*[iter(batch_results)] * 2)))\n",
    "        batch = []\n",
    "if batch:\n",
    "    batch_results = await asyncio.gather(*batch, return_exceptions=True)\n",
    "    results.extend(list(zip(*[iter(batch_results)] * 2)))"
   ]
  },
  {
   "cell_type": "markdown",
   "metadata": {},
   "source": [
    "## Step 5. Evaluate Pairs\n",
    "\n",
    "Now it's time to evaluate the results. For each agent response, run the evaluation chain to select which output is preferred (or return a tie).\n",
    "\n",
    "Randomly select the input order to reduce the likelihood that one model will be preferred just because it is presented first."
   ]
  },
  {
   "cell_type": "code",
   "execution_count": 6,
   "metadata": {
    "tags": []
   },
   "outputs": [],
   "source": [
    "import random\n",
    "\n",
    "\n",
    "def predict_preferences(dataset, results) -> list:\n",
    "    preferences = []\n",
    "\n",
    "    for example, (res_a, res_b) in zip(dataset, results):\n",
    "        input_ = example[\"inputs\"]\n",
    "        # Flip a coin to reduce persistent position bias\n",
    "        if random.random() < 0.5:\n",
    "            pred_a, pred_b = res_a, res_b\n",
    "            a, b = \"a\", \"b\"\n",
    "        else:\n",
    "            pred_a, pred_b = res_b, res_a\n",
    "            a, b = \"b\", \"a\"\n",
    "        eval_res = eval_chain.evaluate_string_pairs(\n",
    "            prediction=pred_a[\"output\"] if isinstance(pred_a, dict) else str(pred_a),\n",
    "            prediction_b=pred_b[\"output\"] if isinstance(pred_b, dict) else str(pred_b),\n",
    "            input=input_,\n",
    "        )\n",
    "        if eval_res[\"value\"] == \"A\":\n",
    "            preferences.append(a)\n",
    "        elif eval_res[\"value\"] == \"B\":\n",
    "            preferences.append(b)\n",
    "        else:\n",
    "            preferences.append(None)  # No preference\n",
    "    return preferences"
   ]
  },
  {
   "cell_type": "code",
   "execution_count": 7,
   "metadata": {},
   "outputs": [],
   "source": [
    "preferences = predict_preferences(dataset, results)"
   ]
  },
  {
   "cell_type": "markdown",
   "metadata": {
    "tags": []
   },
   "source": [
    "**Print out the ratio of preferences.**"
   ]
  },
  {
   "cell_type": "code",
   "execution_count": 8,
   "metadata": {
    "tags": []
   },
   "outputs": [
    {
     "name": "stdout",
     "output_type": "stream",
     "text": [
      "OpenAI Functions Agent: 95.00%\n",
      "None: 5.00%\n"
     ]
    }
   ],
   "source": [
    "from collections import Counter\n",
    "\n",
    "name_map = {\n",
    "    \"a\": \"OpenAI Functions Agent\",\n",
    "    \"b\": \"Structured Chat Agent\",\n",
    "}\n",
    "counts = Counter(preferences)\n",
    "pref_ratios = {k: v / len(preferences) for k, v in counts.items()}\n",
    "for k, v in pref_ratios.items():\n",
    "    print(f\"{name_map.get(k)}: {v:.2%}\")"
   ]
  },
  {
   "cell_type": "markdown",
   "metadata": {},
   "source": [
    "### Estimate Confidence Intervals\n",
    "\n",
    "The results seem pretty clear, but if you want to have a better sense of how confident we are, that model \"A\" (the OpenAI Functions Agent) is the preferred model, we can calculate confidence intervals. \n",
    "\n",
    "Below, use the Wilson score to estimate the confidence interval."
   ]
  },
  {
   "cell_type": "code",
   "execution_count": 9,
   "metadata": {
    "tags": []
   },
   "outputs": [],
   "source": [
    "from math import sqrt\n",
    "\n",
    "\n",
    "def wilson_score_interval(\n",
    "    preferences: list, which: str = \"a\", z: float = 1.96\n",
    ") -> tuple:\n",
    "    \"\"\"Estimate the confidence interval using the Wilson score.\n",
    "\n",
    "    See: https://en.wikipedia.org/wiki/Binomial_proportion_confidence_interval#Wilson_score_interval\n",
    "    for more details, including when to use it and when it should not be used.\n",
    "    \"\"\"\n",
    "    total_preferences = preferences.count(\"a\") + preferences.count(\"b\")\n",
    "    n_s = preferences.count(which)\n",
    "\n",
    "    if total_preferences == 0:\n",
    "        return (0, 0)\n",
    "\n",
    "    p_hat = n_s / total_preferences\n",
    "\n",
    "    denominator = 1 + (z**2) / total_preferences\n",
    "    adjustment = (z / denominator) * sqrt(\n",
    "        p_hat * (1 - p_hat) / total_preferences\n",
    "        + (z**2) / (4 * total_preferences * total_preferences)\n",
    "    )\n",
    "    center = (p_hat + (z**2) / (2 * total_preferences)) / denominator\n",
    "    lower_bound = min(max(center - adjustment, 0.0), 1.0)\n",
    "    upper_bound = min(max(center + adjustment, 0.0), 1.0)\n",
    "\n",
    "    return (lower_bound, upper_bound)"
   ]
  },
  {
   "cell_type": "code",
   "execution_count": 10,
   "metadata": {
    "tags": []
   },
   "outputs": [
    {
     "name": "stdout",
     "output_type": "stream",
     "text": [
      "The \"OpenAI Functions Agent\" would be preferred between 83.18% and 100.00% percent of the time (with 95% confidence).\n",
      "The \"Structured Chat Agent\" would be preferred between 0.00% and 16.82% percent of the time (with 95% confidence).\n"
     ]
    }
   ],
   "source": [
    "for which_, name in name_map.items():\n",
    "    low, high = wilson_score_interval(preferences, which=which_)\n",
    "    print(\n",
    "        f'The \"{name}\" would be preferred between {low:.2%} and {high:.2%} percent of the time (with 95% confidence).'\n",
    "    )"
   ]
  },
  {
   "cell_type": "markdown",
   "metadata": {},
   "source": [
    "**Print out the p-value.**"
   ]
  },
  {
   "cell_type": "code",
   "execution_count": 11,
   "metadata": {
    "tags": []
   },
   "outputs": [
    {
     "name": "stdout",
     "output_type": "stream",
     "text": [
      "The p-value is 0.00000. If the null hypothesis is true (i.e., if the selected eval chain actually has no preference between the models),\n",
      "then there is a 0.00038% chance of observing the OpenAI Functions Agent be preferred at least 19\n",
      "times out of 19 trials.\n"
     ]
    },
    {
     "name": "stderr",
     "output_type": "stream",
     "text": [
      "/var/folders/gf/6rnp_mbx5914kx7qmmh7xzmw0000gn/T/ipykernel_15978/384907688.py:6: DeprecationWarning: 'binom_test' is deprecated in favour of 'binomtest' from version 1.7.0 and will be removed in Scipy 1.12.0.\n",
      "  p_value = stats.binom_test(successes, n, p=0.5, alternative=\"two-sided\")\n"
     ]
    }
   ],
   "source": [
    "from scipy import stats\n",
    "\n",
    "preferred_model = max(pref_ratios, key=pref_ratios.get)\n",
    "successes = preferences.count(preferred_model)\n",
    "n = len(preferences) - preferences.count(None)\n",
    "p_value = stats.binom_test(successes, n, p=0.5, alternative=\"two-sided\")\n",
    "print(\n",
    "    f\"\"\"The p-value is {p_value:.5f}. If the null hypothesis is true (i.e., if the selected eval chain actually has no preference between the models),\n",
    "then there is a {p_value:.5%} chance of observing the {name_map.get(preferred_model)} be preferred at least {successes}\n",
    "times out of {n} trials.\"\"\"\n",
    ")"
   ]
  },
  {
   "cell_type": "markdown",
   "metadata": {},
   "source": [
    "<a name=\"cite_note-1\"></a>_1. Note: Automated evals are still an open research topic and are best used alongside other evaluation approaches. \n",
    "LLM preferences exhibit biases, including banal ones like the order of outputs.\n",
    "In choosing preferences, \"ground truth\" may not be taken into account, which may lead to scores that aren't grounded in utility._"
   ]
  },
  {
   "cell_type": "code",
   "execution_count": null,
   "metadata": {},
   "outputs": [],
   "source": []
  }
 ],
 "metadata": {
  "kernelspec": {
   "display_name": "Python 3 (ipykernel)",
   "language": "python",
   "name": "python3"
  },
  "language_info": {
   "codemirror_mode": {
    "name": "ipython",
    "version": 3
   },
   "file_extension": ".py",
   "mimetype": "text/x-python",
   "name": "python",
   "nbconvert_exporter": "python",
   "pygments_lexer": "ipython3",
   "version": "3.9.1"
  }
 },
 "nbformat": 4,
 "nbformat_minor": 4
}
