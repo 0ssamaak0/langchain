{
 "cells": [
  {
   "attachments": {},
   "cell_type": "markdown",
   "metadata": {},
   "source": [
    "# E2B Data Analysis\n",
    "\n",
    "[E2B's cloud environments](https://e2b.dev) are great runtime sandboxes for LLMs.\n",
    "\n",
    "E2B's Data Analysis sandbox allows for safe code execution in a sandboxed environment. This is ideal for building tools such as code interpreters, or Advanced Data Analysis like in ChatGPT.\n",
    "\n",
    "E2B Data Analysis sandbox allows you to:\n",
    "- Run Python code\n",
    "- Generate charts via matplotlib\n",
    "- Install Python packages dynamically durint runtime\n",
    "- Install system packages dynamically during runtime\n",
    "- Run shell commands\n",
    "- Upload and download files\n",
    "\n",
    "We'll create a simple OpenAI agent that will use E2B's Data Analysis sandbox to perform analysis on a uploaded files using Python."
   ]
  },
  {
   "attachments": {},
   "cell_type": "markdown",
   "metadata": {},
   "source": [
    "Get your OpenAI API key and [E2B API key here](https://e2b.dev/docs/getting-started/api-key) and set them as environment variables.\n"
   ]
  },
  {
   "cell_type": "code",
   "execution_count": null,
   "metadata": {},
   "outputs": [],
   "source": [
    "import os\n",
    "os.environ[\"E2B_API_KEY\"] = \"<E2B_API_KEY>\"\n",
    "os.environ[\"OPENAI_API_KEY\"] = \"<OPENAI_API_KEY>\""
   ]
  },
  {
   "cell_type": "code",
   "execution_count": null,
   "metadata": {},
   "outputs": [],
   "source": [
    "from langchain.chat_models import ChatOpenAI\n",
    "from langchain.tools import E2BDataAnalysisTool\n",
    "from langchain.agents import initialize_agent, AgentType\n",
    "\n",
    "e2b_data_analysis_tool = E2BDataAnalysisTool()"
   ]
  },
  {
   "attachments": {},
   "cell_type": "markdown",
   "metadata": {},
   "source": [
    "Upload an example CSV data file to the sandbox so we can analyze it with our agent. You can use for example [this file](https://storage.googleapis.com/e2b-examples/netflix.csv) about Netflix tv shows."
   ]
  },
  {
   "cell_type": "code",
   "execution_count": null,
   "metadata": {},
   "outputs": [],
   "source": [
    "with open(\"./netflix.csv\") as f:\n",
    "  e2b_data_analysis_tool.upload_file(\n",
    "    file=f,\n",
    "    description=\"Data about Netflix tv shows including their title, category, director, release date, casting, age rating, etc.\",\n",
    "  )"
   ]
  },
  {
   "attachments": {},
   "cell_type": "markdown",
   "metadata": {},
   "source": [
    "Create a `Tool` object and initialize the Langchain agent."
   ]
  },
  {
   "cell_type": "code",
   "execution_count": null,
   "metadata": {},
   "outputs": [],
   "source": [
    "\n",
    "\n",
    "tools = [e2b_data_analysis_tool.as_tool()]\n",
    "\n",
    "llm = ChatOpenAI(model=\"gpt-4\", temperature=0)\n",
    "agent = initialize_agent(\n",
    "    tools, llm, agent=AgentType.OPENAI_FUNCTIONS, verbose=True, handle_parsing_errors=True\n",
    ")"
   ]
  },
  {
   "attachments": {},
   "cell_type": "markdown",
   "metadata": {},
   "source": [
    "Now we can ask the agent questions about the CSV file we uploaded earlier."
   ]
  },
  {
   "cell_type": "code",
   "execution_count": null,
   "metadata": {},
   "outputs": [],
   "source": [
    "agent.run(\"What are the 5 longest movies on netflix released between 2000 and 2010?\")"
   ]
  },
  {
   "attachments": {},
   "cell_type": "markdown",
   "metadata": {},
   "source": [
    "E2B also allows you to install both Python and system (via `apt`) packages dynamically during runtime like this:"
   ]
  },
  {
   "cell_type": "code",
   "execution_count": null,
   "metadata": {},
   "outputs": [],
   "source": [
    "# Install Python package\n",
    "e2b_data_analysis_tool.install_python_packages('pandas')\n",
    "\n",
    "# Install system package\n",
    "e2b_data_analysis_tool.install_system_packages('ffmpeg')"
   ]
  },
  {
   "attachments": {},
   "cell_type": "markdown",
   "metadata": {},
   "source": [
    "Additionally, you can download any file from the sandbox like this:"
   ]
  },
  {
   "cell_type": "code",
   "execution_count": null,
   "metadata": {},
   "outputs": [],
   "source": [
    "# The path is a remote path in the sandbox\n",
    "files_in_bytes = e2b_data_analysis_tool.download_file('/home/user/file')"
   ]
  },
  {
   "attachments": {},
   "cell_type": "markdown",
   "metadata": {},
   "source": [
    "Lastly, you can run any shell command inside the sandbox"
   ]
  },
  {
   "cell_type": "code",
   "execution_count": null,
   "metadata": {},
   "outputs": [],
   "source": [
    "# Install SQLite\n",
    "output = e2b_data_analysis_tool.run_command(\"sudo apt update && sudo apt install sqlite3\")\n",
    "print(output[\"stdout\"])\n",
    "print(output[\"stderr\"])\n",
    "print(output[\"exit_code\"])\n",
    "\n",
    "# Check the SQLite version\n",
    "output = e2b_data_analysis_tool.run_command(\"sqlite3 --version\")\n",
    "print(output[\"stdout\"])\n",
    "print(output[\"stderr\"])\n",
    "print(output[\"exit_code\"])"
   ]
  },
  {
   "attachments": {},
   "cell_type": "markdown",
   "metadata": {},
   "source": [
    "When your agent is finished, don't forget to close the sandbox"
   ]
  },
  {
   "cell_type": "code",
   "execution_count": null,
   "metadata": {},
   "outputs": [],
   "source": [
    "e2b_data_analysis_tool.close()"
   ]
  }
 ],
 "metadata": {
  "language_info": {
   "name": "python"
  },
  "orig_nbformat": 4
 },
 "nbformat": 4,
 "nbformat_minor": 2
}
