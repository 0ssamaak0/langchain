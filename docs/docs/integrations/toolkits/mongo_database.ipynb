{
 "cells": [
  {
   "cell_type": "markdown",
   "metadata": {},
   "source": [
    "# MongoDB Database\n",
    "\n",
    "This notebook showcases an agent designed to interact with a `MongoDB` databases. \n",
    "The agent is similar to [SQL Database](https://python.langchain.com/docs/integrations/toolkits/sql_database).\n",
    "\n",
    "As this agent is in development, all answers may not be correct. Additionally, it is not guaranteed that the agent won't perform destructive commands on your database given certain questions."
   ]
  },
  {
   "cell_type": "markdown",
   "metadata": {},
   "source": [
    "## Initialization"
   ]
  },
  {
   "cell_type": "code",
   "execution_count": null,
   "metadata": {
    "vscode": {
     "languageId": "plaintext"
    }
   },
   "outputs": [],
   "source": [
    "from langchain.agents import create_mongo_agent\n",
    "from langchain.agents.agent_toolkits import MongoDatabaseToolkit\n",
    "from langchain.agents.agent_types import AgentType\n",
    "from langchain.llms.openai import OpenAI\n",
    "from langchain.sql_database import MongoDatabase"
   ]
  }
 ],
 "metadata": {
  "language_info": {
   "name": "python"
  }
 },
 "nbformat": 4,
 "nbformat_minor": 2
}
