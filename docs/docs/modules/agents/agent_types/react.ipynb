{
 "cells": [
  {
   "cell_type": "markdown",
   "id": "d82e62ec",
   "metadata": {},
   "source": [
    "# ReAct\n",
    "\n",
    "This walkthrough showcases using an agent to implement the [ReAct](https://react-lm.github.io/) logic."
   ]
  },
  {
   "cell_type": "code",
   "execution_count": 19,
   "id": "102b0e52",
   "metadata": {},
   "outputs": [],
   "source": [
    "from langchain.agents import create_react_agent, AgentExecutor\n",
    "from langchain_community.llms import OpenAI\n",
    "from langchain_community.tools.tavily_search import TavilySearchResults\n",
    "from langchain import hub"
   ]
  },
  {
   "cell_type": "markdown",
   "id": "0d779225",
   "metadata": {},
   "source": [
    "## Load tools\n",
    "\n",
    "Let's load some tools to use."
   ]
  },
  {
   "cell_type": "code",
   "execution_count": 4,
   "id": "256408d5",
   "metadata": {},
   "outputs": [],
   "source": [
    "tools = [TavilySearchResults(max_results=1)]"
   ]
  },
  {
   "cell_type": "markdown",
   "id": "73e94831",
   "metadata": {},
   "source": [
    "## Create Agent"
   ]
  },
  {
   "cell_type": "code",
   "execution_count": 21,
   "id": "a33a16a0",
   "metadata": {},
   "outputs": [],
   "source": [
    "# Get the prompt to use - you can modify this!\n",
    "prompt = hub.pull(\"hwchase17/react\")"
   ]
  },
  {
   "cell_type": "code",
   "execution_count": 22,
   "id": "f630c766",
   "metadata": {},
   "outputs": [
    {
     "name": "stdout",
     "output_type": "stream",
     "text": [
      "input_variables=['agent_scratchpad', 'input', 'tool_names', 'tools'] template='Answer the following questions as best you can. You have access to the following tools:\\n\\n{tools}\\n\\nUse the following format:\\n\\nQuestion: the input question you must answer\\nThought: you should always think about what to do\\nAction: the action to take, should be one of [{tool_names}]\\nAction Input: the input to the action\\nObservation: the result of the action\\n... (this Thought/Action/Action Input/Observation can repeat N times)\\nThought: I now know the final answer\\nFinal Answer: the final answer to the original input question\\n\\nBegin!\\n\\nQuestion: {input}\\nThought:{agent_scratchpad}'\n"
     ]
    }
   ],
   "source": [
    "print(prompt)"
   ]
  },
  {
   "cell_type": "code",
   "execution_count": 23,
   "id": "22ff2077",
   "metadata": {},
   "outputs": [],
   "source": [
    "# Choose the LLM to use\n",
    "llm = OpenAI()\n",
    "\n",
    "# Construct the ReAct agent\n",
    "agent = create_react_agent(llm, tools, prompt)"
   ]
  },
  {
   "cell_type": "markdown",
   "id": "09e808f8",
   "metadata": {},
   "source": [
    "## Run the Agent"
   ]
  },
  {
   "cell_type": "code",
   "execution_count": 24,
   "id": "c6e46c8a",
   "metadata": {},
   "outputs": [],
   "source": [
    "# Create an agent executor by passing in the agent and tools\n",
    "agent_executor = AgentExecutor(agent=agent, tools=tools, verbose=True)"
   ]
  },
  {
   "cell_type": "code",
   "execution_count": 25,
   "id": "443f66d5",
   "metadata": {},
   "outputs": [
    {
     "name": "stdout",
     "output_type": "stream",
     "text": [
      "\n",
      "\n",
      "\u001b[1m> Entering new AgentExecutor chain...\u001b[0m\n",
      "\u001b[32;1m\u001b[1;3m I should search for this term\n",
      "Action: tavily_search_results_json\n",
      "Action Input: LangChain\u001b[0m\u001b[36;1m\u001b[1;3m[{'url': 'https://www.ibm.com/topics/langchain', 'content': \"LangChain is essentially a library of abstractions for Python and Javascript, representing common steps and concepts  LangChain is an open source orchestration framework for the development of applications using large language models  other LangChain features, like the eponymous chains.  LangChain provides integrations for over 25 different embedding methods, as well as for over 50 different vector storesLangChain is an open source orchestration framework for the development of applications using large language models (LLMs). Available in both Python- and Javascript-based libraries, LangChain's tools and APIs simplify the process of building LLM-driven applications like chatbots and virtual agents . LangChain serves as a generic interface for ...\"}]\u001b[0m\u001b[32;1m\u001b[1;3m I should read the content of the first result\n",
      "Action: tavily_search_results_json\n",
      "Action Input: LangChain\u001b[0m\u001b[36;1m\u001b[1;3m[{'url': 'https://www.ibm.com/topics/langchain', 'content': \"LangChain is essentially a library of abstractions for Python and Javascript, representing common steps and concepts  LangChain is an open source orchestration framework for the development of applications using large language models  other LangChain features, like the eponymous chains.  LangChain provides integrations for over 25 different embedding methods, as well as for over 50 different vector storesLangChain is an open source orchestration framework for the development of applications using large language models (LLMs). Available in both Python- and Javascript-based libraries, LangChain's tools and APIs simplify the process of building LLM-driven applications like chatbots and virtual agents . LangChain serves as a generic interface for ...\"}]\u001b[0m\u001b[32;1m\u001b[1;3m I should focus on the features of LangChain\n",
      "Action: tavily_search_results_json\n",
      "Action Input: LangChain features\u001b[0m\u001b[36;1m\u001b[1;3m[{'url': 'https://blog.langchain.dev/the-new-langchain-architecture-langchain-core-v0-1-langchain-community-and-a-path-to-langchain-v0-1/', 'content': 'LangChain  LangChain Experimental  LangChain Core  LangChain Community14 min read Dec 12, 2023 The goal of LangChain has always been to make it as easy as possible to develop context-aware reasoning applications with LLMs. LangChain started as a side project, and purely as a Python package. Over the past year it has grown tremendously.'}]\u001b[0m\u001b[32;1m\u001b[1;3m I should read the content of the first result to understand the features of LangChain\n",
      "Action: tavily_search_results_json\n",
      "Action Input: LangChain features\u001b[0m\u001b[36;1m\u001b[1;3m[{'url': 'https://www.ibm.com/topics/langchain', 'content': \"other LangChain features, like the eponymous chains.  LangChain is an open source orchestration framework for the development of applications using large language models  LangChain is essentially a library of abstractions for Python and Javascript, representing common steps and concepts  LangChain provides integrations for over 25 different embedding methods, as well as for over 50 different vector storesLangChain is an open source orchestration framework for the development of applications using large language models (LLMs). Available in both Python- and Javascript-based libraries, LangChain's tools and APIs simplify the process of building LLM-driven applications like chatbots and virtual agents .\"}]\u001b[0m\u001b[32;1m\u001b[1;3m I should now have a good understanding of LangChain's features\n",
      "Final Answer: LangChain is an open source orchestration framework for the development of applications using large language models. It provides integrations for over 25 different embedding methods and over 50 different vector stores. It simplifies the process of building LLM-driven applications like chatbots and virtual agents.\u001b[0m\n",
      "\n",
      "\u001b[1m> Finished chain.\u001b[0m\n"
     ]
    },
    {
     "data": {
      "text/plain": [
       "{'input': 'what is LangChain?',\n",
       " 'output': 'LangChain is an open source orchestration framework for the development of applications using large language models. It provides integrations for over 25 different embedding methods and over 50 different vector stores. It simplifies the process of building LLM-driven applications like chatbots and virtual agents.'}"
      ]
     },
     "execution_count": 25,
     "metadata": {},
     "output_type": "execute_result"
    }
   ],
   "source": [
    "agent_executor.invoke({\"input\": \"what is LangChain?\"})"
   ]
  },
  {
   "cell_type": "markdown",
   "id": "b7d04f53",
   "metadata": {},
   "source": [
    "## Using LCEL\n",
    "\n",
    "We will first show how to create the agent using LCEL"
   ]
  },
  {
   "cell_type": "code",
   "execution_count": 26,
   "id": "bb0813a3",
   "metadata": {},
   "outputs": [],
   "source": [
    "from langchain import hub\n",
    "from langchain.agents.format_scratchpad import format_log_to_str\n",
    "from langchain.agents.output_parsers import ReActSingleInputOutputParser\n",
    "from langchain.tools.render import render_text_description"
   ]
  },
  {
   "cell_type": "code",
   "execution_count": 27,
   "id": "d3ae5fcd",
   "metadata": {},
   "outputs": [],
   "source": [
    "prompt = hub.pull(\"hwchase17/react\")\n",
    "prompt = prompt.partial(\n",
    "    tools=render_text_description(tools),\n",
    "    tool_names=\", \".join([t.name for t in tools]),\n",
    ")"
   ]
  },
  {
   "cell_type": "code",
   "execution_count": 28,
   "id": "bf47a3c7",
   "metadata": {},
   "outputs": [],
   "source": [
    "llm_with_stop = llm.bind(stop=[\"\\nObservation\"])"
   ]
  },
  {
   "cell_type": "code",
   "execution_count": 29,
   "id": "b3d3958b",
   "metadata": {},
   "outputs": [],
   "source": [
    "agent = (\n",
    "    {\n",
    "        \"input\": lambda x: x[\"input\"],\n",
    "        \"agent_scratchpad\": lambda x: format_log_to_str(x[\"intermediate_steps\"]),\n",
    "    }\n",
    "    | prompt\n",
    "    | llm_with_stop\n",
    "    | ReActSingleInputOutputParser()\n",
    ")"
   ]
  },
  {
   "cell_type": "code",
   "execution_count": 30,
   "id": "a0a57769",
   "metadata": {},
   "outputs": [],
   "source": [
    "from langchain.agents import AgentExecutor"
   ]
  },
  {
   "cell_type": "code",
   "execution_count": 31,
   "id": "026de6cd",
   "metadata": {},
   "outputs": [],
   "source": [
    "agent_executor = AgentExecutor(agent=agent, tools=tools, verbose=True)"
   ]
  },
  {
   "cell_type": "code",
   "execution_count": 32,
   "id": "57780ce1",
   "metadata": {},
   "outputs": [
    {
     "name": "stdout",
     "output_type": "stream",
     "text": [
      "\n",
      "\n",
      "\u001b[1m> Entering new AgentExecutor chain...\u001b[0m\n",
      "\u001b[32;1m\u001b[1;3m As a researcher, I should always think about using reliable sources to find information.\n",
      "Action: tavily_search_results_json\n",
      "Action Input: \"LangChain\"\u001b[0m\u001b[36;1m\u001b[1;3m[{'url': 'https://www.ibm.com/topics/langchain', 'content': \"LangChain is essentially a library of abstractions for Python and Javascript, representing common steps and concepts  LangChain is an open source orchestration framework for the development of applications using large language models  other LangChain features, like the eponymous chains.  LangChain provides integrations for over 25 different embedding methods, as well as for over 50 different vector storesLangChain is an open source orchestration framework for the development of applications using large language models (LLMs). Available in both Python- and Javascript-based libraries, LangChain's tools and APIs simplify the process of building LLM-driven applications like chatbots and virtual agents . LangChain serves as a generic interface for ...\"}]\u001b[0m\u001b[32;1m\u001b[1;3m After reading the information provided by tavily_search_results_json, I am closer to understanding what LangChain is.\n",
      "Action: tavily_search_results_json\n",
      "Action Input: \"LangChain open source\"\u001b[0m\u001b[36;1m\u001b[1;3m[{'url': 'https://www.ibm.com/topics/langchain', 'content': \"LangChain is an open source orchestration framework for the development of applications using large language models  LangChain is essentially a library of abstractions for Python and Javascript, representing common steps and concepts  LangChain is open source and free to use: source code is\\xa0available for download on Github\\xa0(link resides outside  LangChain provides integrations for over 25 different embedding methods, as well as for over 50 different vector storesLangChain is an open source orchestration framework for the development of applications using large language models (LLMs). Available in both Python- and Javascript-based libraries, LangChain's tools and APIs simplify the process of building LLM-driven applications like chatbots and virtual agents .\"}]\u001b[0m\u001b[32;1m\u001b[1;3mNow I have a better understanding of LangChain and its features as an open source framework.\n",
      "Final Answer: LangChain is an open source orchestration framework for developing applications using large language models. It provides tools and APIs for simplifying the process of building LLM-driven applications, such as chatbots and virtual agents. It also offers integrations for various embedding methods and vector stores. \u001b[0m\n",
      "\n",
      "\u001b[1m> Finished chain.\u001b[0m\n"
     ]
    },
    {
     "data": {
      "text/plain": [
       "{'input': 'what is LangChain?',\n",
       " 'output': 'LangChain is an open source orchestration framework for developing applications using large language models. It provides tools and APIs for simplifying the process of building LLM-driven applications, such as chatbots and virtual agents. It also offers integrations for various embedding methods and vector stores.'}"
      ]
     },
     "execution_count": 32,
     "metadata": {},
     "output_type": "execute_result"
    }
   ],
   "source": [
    "agent_executor.invoke({\"input\": \"what is LangChain?\"})"
   ]
  },
  {
   "cell_type": "markdown",
   "id": "7f3e8fc8",
   "metadata": {},
   "source": [
    "## Using chat models\n",
    "\n",
    "You can also create ReAct agents that use chat models instead of LLMs as the agent driver.\n",
    "\n",
    "The main difference here is a different prompt. We will use JSON to encode the agent's actions (chat models are a bit tougher to steet, so using JSON helps to enforce the output format)."
   ]
  },
  {
   "cell_type": "code",
   "execution_count": null,
   "id": "6eeb1693",
   "metadata": {},
   "outputs": [],
   "source": [
    "from langchain.chat_models import ChatOpenAI"
   ]
  },
  {
   "cell_type": "code",
   "execution_count": null,
   "id": "fe846c48",
   "metadata": {},
   "outputs": [],
   "source": [
    "chat_model = ChatOpenAI(temperature=0)"
   ]
  },
  {
   "cell_type": "code",
   "execution_count": null,
   "id": "0843590d",
   "metadata": {},
   "outputs": [],
   "source": [
    "prompt = hub.pull(\"hwchase17/react-json\")\n",
    "prompt = prompt.partial(\n",
    "    tools=render_text_description(tools),\n",
    "    tool_names=\", \".join([t.name for t in tools]),\n",
    ")"
   ]
  },
  {
   "cell_type": "code",
   "execution_count": null,
   "id": "a863b763",
   "metadata": {},
   "outputs": [],
   "source": [
    "chat_model_with_stop = chat_model.bind(stop=[\"\\nObservation\"])"
   ]
  },
  {
   "cell_type": "code",
   "execution_count": null,
   "id": "deaeb1f6",
   "metadata": {},
   "outputs": [],
   "source": [
    "from langchain.agents.output_parsers import ReActJsonSingleInputOutputParser"
   ]
  },
  {
   "cell_type": "code",
   "execution_count": null,
   "id": "6336a378",
   "metadata": {},
   "outputs": [],
   "source": [
    "agent = (\n",
    "    {\n",
    "        \"input\": lambda x: x[\"input\"],\n",
    "        \"agent_scratchpad\": lambda x: format_log_to_str(x[\"intermediate_steps\"]),\n",
    "    }\n",
    "    | prompt\n",
    "    | chat_model_with_stop\n",
    "    | ReActJsonSingleInputOutputParser()\n",
    ")"
   ]
  },
  {
   "cell_type": "code",
   "execution_count": null,
   "id": "13ad514e",
   "metadata": {},
   "outputs": [],
   "source": [
    "agent_executor = AgentExecutor(agent=agent, tools=tools, verbose=True)"
   ]
  },
  {
   "cell_type": "code",
   "execution_count": null,
   "id": "3a3394a4",
   "metadata": {},
   "outputs": [],
   "source": [
    "agent_executor.invoke(\n",
    "    {\n",
    "        \"input\": \"Who is Leo DiCaprio's girlfriend? What is her current age raised to the 0.43 power?\"\n",
    "    }\n",
    ")"
   ]
  }
 ],
 "metadata": {
  "kernelspec": {
   "display_name": "Python 3 (ipykernel)",
   "language": "python",
   "name": "python3"
  },
  "language_info": {
   "codemirror_mode": {
    "name": "ipython",
    "version": 3
   },
   "file_extension": ".py",
   "mimetype": "text/x-python",
   "name": "python",
   "nbconvert_exporter": "python",
   "pygments_lexer": "ipython3",
   "version": "3.10.1"
  }
 },
 "nbformat": 4,
 "nbformat_minor": 5
}
